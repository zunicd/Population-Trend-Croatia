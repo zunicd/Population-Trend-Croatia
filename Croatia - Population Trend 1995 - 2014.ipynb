{
 "cells": [
  {
   "cell_type": "markdown",
   "metadata": {},
   "source": [
    "# Croatia: Population Trend 1995 - 2014\n",
    " \n",
    "* [Presentation (slide-deck)](https://github.com/zunicd/Population-Trend-Croatia/blob/master/Croatia%20-%20Population%20Trend%201995%20-%202014.pdf)\n"
   ]
  },
  {
   "cell_type": "markdown",
   "metadata": {},
   "source": [
    "**Data Source:** https://www.kaggle.com/worldbank/world-development-indicators\n",
    "\n",
    "**Folder:** 'world-development-indicators' "
   ]
  },
  {
   "cell_type": "code",
   "execution_count": 1,
   "metadata": {
    "ExecuteTime": {
     "end_time": "2020-06-29T17:28:41.876480Z",
     "start_time": "2020-06-29T17:28:38.109962Z"
    }
   },
   "outputs": [],
   "source": [
    "import pandas as pd\n",
    "import numpy as np\n",
    "import matplotlib.pyplot as plt\n",
    "import folium\n",
    "%matplotlib inline\n",
    "\n",
    "# Tick locating and formatting\n",
    "# we will use it to have integer-only tick labels\n",
    "from matplotlib.ticker import MaxNLocator"
   ]
  },
  {
   "cell_type": "code",
   "execution_count": 2,
   "metadata": {
    "ExecuteTime": {
     "end_time": "2020-06-29T17:28:46.522854Z",
     "start_time": "2020-06-29T17:28:41.877480Z"
    },
    "scrolled": true
   },
   "outputs": [
    {
     "data": {
      "text/plain": [
       "(5656458, 6)"
      ]
     },
     "execution_count": 2,
     "metadata": {},
     "output_type": "execute_result"
    }
   ],
   "source": [
    "# read the file\n",
    "data = pd.read_csv('./Data/world-development-indicators/Indicators.csv')\n",
    "data.shape"
   ]
  },
  {
   "cell_type": "code",
   "execution_count": 3,
   "metadata": {
    "ExecuteTime": {
     "end_time": "2020-06-29T17:28:46.569854Z",
     "start_time": "2020-06-29T17:28:46.524822Z"
    }
   },
   "outputs": [
    {
     "data": {
      "text/html": [
       "<div>\n",
       "<style scoped>\n",
       "    .dataframe tbody tr th:only-of-type {\n",
       "        vertical-align: middle;\n",
       "    }\n",
       "\n",
       "    .dataframe tbody tr th {\n",
       "        vertical-align: top;\n",
       "    }\n",
       "\n",
       "    .dataframe thead th {\n",
       "        text-align: right;\n",
       "    }\n",
       "</style>\n",
       "<table border=\"1\" class=\"dataframe\">\n",
       "  <thead>\n",
       "    <tr style=\"text-align: right;\">\n",
       "      <th></th>\n",
       "      <th>CountryName</th>\n",
       "      <th>CountryCode</th>\n",
       "      <th>IndicatorName</th>\n",
       "      <th>IndicatorCode</th>\n",
       "      <th>Year</th>\n",
       "      <th>Value</th>\n",
       "    </tr>\n",
       "  </thead>\n",
       "  <tbody>\n",
       "    <tr>\n",
       "      <th>0</th>\n",
       "      <td>Arab World</td>\n",
       "      <td>ARB</td>\n",
       "      <td>Adolescent fertility rate (births per 1,000 wo...</td>\n",
       "      <td>SP.ADO.TFRT</td>\n",
       "      <td>1960</td>\n",
       "      <td>133.560907</td>\n",
       "    </tr>\n",
       "    <tr>\n",
       "      <th>1</th>\n",
       "      <td>Arab World</td>\n",
       "      <td>ARB</td>\n",
       "      <td>Age dependency ratio (% of working-age populat...</td>\n",
       "      <td>SP.POP.DPND</td>\n",
       "      <td>1960</td>\n",
       "      <td>87.797601</td>\n",
       "    </tr>\n",
       "  </tbody>\n",
       "</table>\n",
       "</div>"
      ],
      "text/plain": [
       "  CountryName CountryCode                                      IndicatorName  \\\n",
       "0  Arab World         ARB  Adolescent fertility rate (births per 1,000 wo...   \n",
       "1  Arab World         ARB  Age dependency ratio (% of working-age populat...   \n",
       "\n",
       "  IndicatorCode  Year       Value  \n",
       "0   SP.ADO.TFRT  1960  133.560907  \n",
       "1   SP.POP.DPND  1960   87.797601  "
      ]
     },
     "execution_count": 3,
     "metadata": {},
     "output_type": "execute_result"
    }
   ],
   "source": [
    "data.head(2)"
   ]
  },
  {
   "cell_type": "code",
   "execution_count": 4,
   "metadata": {
    "ExecuteTime": {
     "end_time": "2020-06-29T17:28:47.215197Z",
     "start_time": "2020-06-29T17:28:46.571815Z"
    }
   },
   "outputs": [
    {
     "data": {
      "text/plain": [
       "1344"
      ]
     },
     "execution_count": 4,
     "metadata": {},
     "output_type": "execute_result"
    }
   ],
   "source": [
    "# Check the number of unique indicators \n",
    "indicators = data['IndicatorName'].unique().tolist()\n",
    "len(indicators)"
   ]
  },
  {
   "cell_type": "code",
   "execution_count": 5,
   "metadata": {
    "ExecuteTime": {
     "end_time": "2020-06-29T17:28:47.419870Z",
     "start_time": "2020-06-29T17:28:47.216895Z"
    }
   },
   "outputs": [
    {
     "data": {
      "text/plain": [
       "247"
      ]
     },
     "execution_count": 5,
     "metadata": {},
     "output_type": "execute_result"
    }
   ],
   "source": [
    "# Check the number of countries\n",
    "countries = data['CountryName'].unique().tolist()\n",
    "len(countries)"
   ]
  },
  {
   "cell_type": "markdown",
   "metadata": {},
   "source": [
    "**Ex-Yugoslavia countries**"
   ]
  },
  {
   "cell_type": "code",
   "execution_count": 6,
   "metadata": {
    "ExecuteTime": {
     "end_time": "2020-06-29T17:28:47.434930Z",
     "start_time": "2020-06-29T17:28:47.420875Z"
    }
   },
   "outputs": [
    {
     "data": {
      "text/plain": [
       "0                   Croatia\n",
       "1                  Slovenia\n",
       "2                    Serbia\n",
       "3                Montenegro\n",
       "4            Macedonia, FYR\n",
       "5    Bosnia and Herzegovina\n",
       "6                    Kosovo\n",
       "dtype: object"
      ]
     },
     "execution_count": 6,
     "metadata": {},
     "output_type": "execute_result"
    }
   ],
   "source": [
    "yugo_cntr = pd.Series(['Croatia','Slovenia','Serbia','Montenegro','Macedonia, FYR','Bosnia and Herzegovina','Kosovo'])\n",
    "yugo_cntr"
   ]
  },
  {
   "cell_type": "code",
   "execution_count": 7,
   "metadata": {
    "ExecuteTime": {
     "end_time": "2020-06-29T17:28:47.529865Z",
     "start_time": "2020-06-29T17:28:47.436899Z"
    }
   },
   "outputs": [],
   "source": [
    "masky = data['CountryName'].isin(yugo_cntr)"
   ]
  },
  {
   "cell_type": "code",
   "execution_count": 8,
   "metadata": {
    "ExecuteTime": {
     "end_time": "2020-06-29T17:28:47.576433Z",
     "start_time": "2020-06-29T17:28:47.531865Z"
    }
   },
   "outputs": [
    {
     "data": {
      "text/html": [
       "<div>\n",
       "<style scoped>\n",
       "    .dataframe tbody tr th:only-of-type {\n",
       "        vertical-align: middle;\n",
       "    }\n",
       "\n",
       "    .dataframe tbody tr th {\n",
       "        vertical-align: top;\n",
       "    }\n",
       "\n",
       "    .dataframe thead th {\n",
       "        text-align: right;\n",
       "    }\n",
       "</style>\n",
       "<table border=\"1\" class=\"dataframe\">\n",
       "  <thead>\n",
       "    <tr style=\"text-align: right;\">\n",
       "      <th></th>\n",
       "      <th>CountryName</th>\n",
       "      <th>CountryCode</th>\n",
       "      <th>IndicatorName</th>\n",
       "      <th>IndicatorCode</th>\n",
       "      <th>Year</th>\n",
       "      <th>Value</th>\n",
       "    </tr>\n",
       "  </thead>\n",
       "  <tbody>\n",
       "    <tr>\n",
       "      <th>5479</th>\n",
       "      <td>Bosnia and Herzegovina</td>\n",
       "      <td>BIH</td>\n",
       "      <td>Adolescent fertility rate (births per 1,000 wo...</td>\n",
       "      <td>SP.ADO.TFRT</td>\n",
       "      <td>1960</td>\n",
       "      <td>42.748000</td>\n",
       "    </tr>\n",
       "    <tr>\n",
       "      <th>5480</th>\n",
       "      <td>Bosnia and Herzegovina</td>\n",
       "      <td>BIH</td>\n",
       "      <td>Age dependency ratio (% of working-age populat...</td>\n",
       "      <td>SP.POP.DPND</td>\n",
       "      <td>1960</td>\n",
       "      <td>70.154967</td>\n",
       "    </tr>\n",
       "  </tbody>\n",
       "</table>\n",
       "</div>"
      ],
      "text/plain": [
       "                 CountryName CountryCode  \\\n",
       "5479  Bosnia and Herzegovina         BIH   \n",
       "5480  Bosnia and Herzegovina         BIH   \n",
       "\n",
       "                                          IndicatorName IndicatorCode  Year  \\\n",
       "5479  Adolescent fertility rate (births per 1,000 wo...   SP.ADO.TFRT  1960   \n",
       "5480  Age dependency ratio (% of working-age populat...   SP.POP.DPND  1960   \n",
       "\n",
       "          Value  \n",
       "5479  42.748000  \n",
       "5480  70.154967  "
      ]
     },
     "execution_count": 8,
     "metadata": {},
     "output_type": "execute_result"
    }
   ],
   "source": [
    "yugo = data[masky]\n",
    "yugo.head(2)"
   ]
  },
  {
   "cell_type": "markdown",
   "metadata": {},
   "source": [
    "\n",
    "**Work with \"Population, total\"**\n",
    "\n",
    "The same time frame for all countires is 1995 - 2014"
   ]
  },
  {
   "cell_type": "code",
   "execution_count": 9,
   "metadata": {
    "ExecuteTime": {
     "end_time": "2020-06-29T17:28:49.595430Z",
     "start_time": "2020-06-29T17:28:47.578433Z"
    }
   },
   "outputs": [
    {
     "data": {
      "text/html": [
       "<div>\n",
       "<style scoped>\n",
       "    .dataframe tbody tr th:only-of-type {\n",
       "        vertical-align: middle;\n",
       "    }\n",
       "\n",
       "    .dataframe tbody tr th {\n",
       "        vertical-align: top;\n",
       "    }\n",
       "\n",
       "    .dataframe thead th {\n",
       "        text-align: right;\n",
       "    }\n",
       "</style>\n",
       "<table border=\"1\" class=\"dataframe\">\n",
       "  <thead>\n",
       "    <tr style=\"text-align: right;\">\n",
       "      <th></th>\n",
       "      <th>CountryName</th>\n",
       "      <th>CountryCode</th>\n",
       "      <th>IndicatorName</th>\n",
       "      <th>IndicatorCode</th>\n",
       "      <th>Year</th>\n",
       "      <th>Value</th>\n",
       "    </tr>\n",
       "  </thead>\n",
       "  <tbody>\n",
       "    <tr>\n",
       "      <th>2514736</th>\n",
       "      <td>Bosnia and Herzegovina</td>\n",
       "      <td>BIH</td>\n",
       "      <td>Population, total</td>\n",
       "      <td>SP.POP.TOTL</td>\n",
       "      <td>1995</td>\n",
       "      <td>3879278.0</td>\n",
       "    </tr>\n",
       "    <tr>\n",
       "      <th>2528882</th>\n",
       "      <td>Croatia</td>\n",
       "      <td>HRV</td>\n",
       "      <td>Population, total</td>\n",
       "      <td>SP.POP.TOTL</td>\n",
       "      <td>1995</td>\n",
       "      <td>4669000.0</td>\n",
       "    </tr>\n",
       "  </tbody>\n",
       "</table>\n",
       "</div>"
      ],
      "text/plain": [
       "                    CountryName CountryCode      IndicatorName IndicatorCode  \\\n",
       "2514736  Bosnia and Herzegovina         BIH  Population, total   SP.POP.TOTL   \n",
       "2528882                 Croatia         HRV  Population, total   SP.POP.TOTL   \n",
       "\n",
       "         Year      Value  \n",
       "2514736  1995  3879278.0  \n",
       "2528882  1995  4669000.0  "
      ]
     },
     "execution_count": 9,
     "metadata": {},
     "output_type": "execute_result"
    }
   ],
   "source": [
    "maskp = data['IndicatorName'].str.contains('Population, total')\n",
    "pop_yugo = data[masky & maskp]\n",
    "pop_yugo = pop_yugo[pop_yugo['Year'] > 1994]\n",
    "pop_yugo.head(2)"
   ]
  },
  {
   "cell_type": "markdown",
   "metadata": {},
   "source": [
    "## Display population trend (growth/decline) for all countries##\n",
    " \n",
    " "
   ]
  },
  {
   "cell_type": "markdown",
   "metadata": {},
   "source": [
    "**Transform the dataframe**"
   ]
  },
  {
   "cell_type": "code",
   "execution_count": 10,
   "metadata": {
    "ExecuteTime": {
     "end_time": "2020-06-29T17:28:49.626396Z",
     "start_time": "2020-06-29T17:28:49.596430Z"
    }
   },
   "outputs": [
    {
     "data": {
      "text/html": [
       "<div>\n",
       "<style scoped>\n",
       "    .dataframe tbody tr th:only-of-type {\n",
       "        vertical-align: middle;\n",
       "    }\n",
       "\n",
       "    .dataframe tbody tr th {\n",
       "        vertical-align: top;\n",
       "    }\n",
       "\n",
       "    .dataframe thead tr th {\n",
       "        text-align: left;\n",
       "    }\n",
       "\n",
       "    .dataframe thead tr:last-of-type th {\n",
       "        text-align: right;\n",
       "    }\n",
       "</style>\n",
       "<table border=\"1\" class=\"dataframe\">\n",
       "  <thead>\n",
       "    <tr>\n",
       "      <th>CountryName</th>\n",
       "      <th>Bosnia and Herzegovina</th>\n",
       "      <th>Croatia</th>\n",
       "      <th>Kosovo</th>\n",
       "      <th>Macedonia, FYR</th>\n",
       "      <th>Montenegro</th>\n",
       "      <th>Serbia</th>\n",
       "      <th>Slovenia</th>\n",
       "    </tr>\n",
       "    <tr>\n",
       "      <th>CountryCode</th>\n",
       "      <th>BIH</th>\n",
       "      <th>HRV</th>\n",
       "      <th>KSV</th>\n",
       "      <th>MKD</th>\n",
       "      <th>MNE</th>\n",
       "      <th>SRB</th>\n",
       "      <th>SVN</th>\n",
       "    </tr>\n",
       "    <tr>\n",
       "      <th>Year</th>\n",
       "      <th></th>\n",
       "      <th></th>\n",
       "      <th></th>\n",
       "      <th></th>\n",
       "      <th></th>\n",
       "      <th></th>\n",
       "      <th></th>\n",
       "    </tr>\n",
       "  </thead>\n",
       "  <tbody>\n",
       "    <tr>\n",
       "      <th>1995</th>\n",
       "      <td>3879278.0</td>\n",
       "      <td>4669000.0</td>\n",
       "      <td>2029000.0</td>\n",
       "      <td>1953544.0</td>\n",
       "      <td>608388.0</td>\n",
       "      <td>7625357.0</td>\n",
       "      <td>1989872.0</td>\n",
       "    </tr>\n",
       "    <tr>\n",
       "      <th>1996</th>\n",
       "      <td>3810649.0</td>\n",
       "      <td>4494000.0</td>\n",
       "      <td>2059000.0</td>\n",
       "      <td>1958303.0</td>\n",
       "      <td>607502.0</td>\n",
       "      <td>7617794.0</td>\n",
       "      <td>1988628.0</td>\n",
       "    </tr>\n",
       "  </tbody>\n",
       "</table>\n",
       "</div>"
      ],
      "text/plain": [
       "CountryName Bosnia and Herzegovina    Croatia     Kosovo Macedonia, FYR  \\\n",
       "CountryCode                    BIH        HRV        KSV            MKD   \n",
       "Year                                                                      \n",
       "1995                     3879278.0  4669000.0  2029000.0      1953544.0   \n",
       "1996                     3810649.0  4494000.0  2059000.0      1958303.0   \n",
       "\n",
       "CountryName Montenegro     Serbia   Slovenia  \n",
       "CountryCode        MNE        SRB        SVN  \n",
       "Year                                          \n",
       "1995          608388.0  7625357.0  1989872.0  \n",
       "1996          607502.0  7617794.0  1988628.0  "
      ]
     },
     "execution_count": 10,
     "metadata": {},
     "output_type": "execute_result"
    }
   ],
   "source": [
    "pop_y = pop_yugo.pivot_table(values='Value',columns=('CountryName','CountryCode'),index='Year')\n",
    "pop_y.head(2)"
   ]
  },
  {
   "cell_type": "code",
   "execution_count": 11,
   "metadata": {
    "ExecuteTime": {
     "end_time": "2020-06-29T17:28:49.657496Z",
     "start_time": "2020-06-29T17:28:49.628395Z"
    }
   },
   "outputs": [
    {
     "data": {
      "text/html": [
       "<div>\n",
       "<style scoped>\n",
       "    .dataframe tbody tr th:only-of-type {\n",
       "        vertical-align: middle;\n",
       "    }\n",
       "\n",
       "    .dataframe tbody tr th {\n",
       "        vertical-align: top;\n",
       "    }\n",
       "\n",
       "    .dataframe thead tr th {\n",
       "        text-align: left;\n",
       "    }\n",
       "</style>\n",
       "<table border=\"1\" class=\"dataframe\">\n",
       "  <thead>\n",
       "    <tr>\n",
       "      <th>CountryName</th>\n",
       "      <th>Bosnia and Herzegovina</th>\n",
       "      <th>Croatia</th>\n",
       "      <th>Kosovo</th>\n",
       "      <th>Macedonia, FYR</th>\n",
       "      <th>Montenegro</th>\n",
       "      <th>Serbia</th>\n",
       "      <th>Slovenia</th>\n",
       "    </tr>\n",
       "    <tr>\n",
       "      <th>CountryCode</th>\n",
       "      <th>BIH</th>\n",
       "      <th>HRV</th>\n",
       "      <th>KSV</th>\n",
       "      <th>MKD</th>\n",
       "      <th>MNE</th>\n",
       "      <th>SRB</th>\n",
       "      <th>SVN</th>\n",
       "    </tr>\n",
       "  </thead>\n",
       "  <tbody>\n",
       "    <tr>\n",
       "      <th>1995</th>\n",
       "      <td>3879278.0</td>\n",
       "      <td>4669000.0</td>\n",
       "      <td>2029000.0</td>\n",
       "      <td>1953544.0</td>\n",
       "      <td>608388.0</td>\n",
       "      <td>7625357.0</td>\n",
       "      <td>1989872.0</td>\n",
       "    </tr>\n",
       "    <tr>\n",
       "      <th>1996</th>\n",
       "      <td>3810649.0</td>\n",
       "      <td>4494000.0</td>\n",
       "      <td>2059000.0</td>\n",
       "      <td>1958303.0</td>\n",
       "      <td>607502.0</td>\n",
       "      <td>7617794.0</td>\n",
       "      <td>1988628.0</td>\n",
       "    </tr>\n",
       "  </tbody>\n",
       "</table>\n",
       "</div>"
      ],
      "text/plain": [
       "CountryName Bosnia and Herzegovina    Croatia     Kosovo Macedonia, FYR  \\\n",
       "CountryCode                    BIH        HRV        KSV            MKD   \n",
       "1995                     3879278.0  4669000.0  2029000.0      1953544.0   \n",
       "1996                     3810649.0  4494000.0  2059000.0      1958303.0   \n",
       "\n",
       "CountryName Montenegro     Serbia   Slovenia  \n",
       "CountryCode        MNE        SRB        SVN  \n",
       "1995          608388.0  7625357.0  1989872.0  \n",
       "1996          607502.0  7617794.0  1988628.0  "
      ]
     },
     "execution_count": 11,
     "metadata": {},
     "output_type": "execute_result"
    }
   ],
   "source": [
    "pop_y.index.name = None\n",
    "pop_y.head(2)"
   ]
  },
  {
   "cell_type": "code",
   "execution_count": 12,
   "metadata": {
    "ExecuteTime": {
     "end_time": "2020-06-29T17:28:49.688490Z",
     "start_time": "2020-06-29T17:28:49.658458Z"
    }
   },
   "outputs": [
    {
     "data": {
      "text/html": [
       "<div>\n",
       "<style scoped>\n",
       "    .dataframe tbody tr th:only-of-type {\n",
       "        vertical-align: middle;\n",
       "    }\n",
       "\n",
       "    .dataframe tbody tr th {\n",
       "        vertical-align: top;\n",
       "    }\n",
       "\n",
       "    .dataframe thead th {\n",
       "        text-align: right;\n",
       "    }\n",
       "</style>\n",
       "<table border=\"1\" class=\"dataframe\">\n",
       "  <thead>\n",
       "    <tr style=\"text-align: right;\">\n",
       "      <th></th>\n",
       "      <th></th>\n",
       "      <th>1995</th>\n",
       "      <th>1996</th>\n",
       "      <th>1997</th>\n",
       "      <th>1998</th>\n",
       "      <th>1999</th>\n",
       "      <th>2000</th>\n",
       "      <th>2001</th>\n",
       "      <th>2002</th>\n",
       "      <th>2003</th>\n",
       "      <th>2004</th>\n",
       "      <th>2005</th>\n",
       "      <th>2006</th>\n",
       "      <th>2007</th>\n",
       "      <th>2008</th>\n",
       "      <th>2009</th>\n",
       "      <th>2010</th>\n",
       "      <th>2011</th>\n",
       "      <th>2012</th>\n",
       "      <th>2013</th>\n",
       "      <th>2014</th>\n",
       "    </tr>\n",
       "    <tr>\n",
       "      <th>CountryName</th>\n",
       "      <th>CountryCode</th>\n",
       "      <th></th>\n",
       "      <th></th>\n",
       "      <th></th>\n",
       "      <th></th>\n",
       "      <th></th>\n",
       "      <th></th>\n",
       "      <th></th>\n",
       "      <th></th>\n",
       "      <th></th>\n",
       "      <th></th>\n",
       "      <th></th>\n",
       "      <th></th>\n",
       "      <th></th>\n",
       "      <th></th>\n",
       "      <th></th>\n",
       "      <th></th>\n",
       "      <th></th>\n",
       "      <th></th>\n",
       "      <th></th>\n",
       "      <th></th>\n",
       "    </tr>\n",
       "  </thead>\n",
       "  <tbody>\n",
       "    <tr>\n",
       "      <th>Bosnia and Herzegovina</th>\n",
       "      <th>BIH</th>\n",
       "      <td>3879278.0</td>\n",
       "      <td>3810649.0</td>\n",
       "      <td>3779354.0</td>\n",
       "      <td>3775898.0</td>\n",
       "      <td>3784389.0</td>\n",
       "      <td>3792878.0</td>\n",
       "      <td>3799747.0</td>\n",
       "      <td>3808347.0</td>\n",
       "      <td>3817313.0</td>\n",
       "      <td>3825872.0</td>\n",
       "      <td>3833377.0</td>\n",
       "      <td>3838504.0</td>\n",
       "      <td>3840418.0</td>\n",
       "      <td>3839749.0</td>\n",
       "      <td>3837732.0</td>\n",
       "      <td>3835258.0</td>\n",
       "      <td>3832310.0</td>\n",
       "      <td>3828419.0</td>\n",
       "      <td>3823533.0</td>\n",
       "      <td>3817554.0</td>\n",
       "    </tr>\n",
       "    <tr>\n",
       "      <th>Croatia</th>\n",
       "      <th>HRV</th>\n",
       "      <td>4669000.0</td>\n",
       "      <td>4494000.0</td>\n",
       "      <td>4572000.0</td>\n",
       "      <td>4501000.0</td>\n",
       "      <td>4554000.0</td>\n",
       "      <td>4426000.0</td>\n",
       "      <td>4440000.0</td>\n",
       "      <td>4440000.0</td>\n",
       "      <td>4440000.0</td>\n",
       "      <td>4439000.0</td>\n",
       "      <td>4442000.0</td>\n",
       "      <td>4440000.0</td>\n",
       "      <td>4436000.0</td>\n",
       "      <td>4434508.0</td>\n",
       "      <td>4429078.0</td>\n",
       "      <td>4417781.0</td>\n",
       "      <td>4280622.0</td>\n",
       "      <td>4267558.0</td>\n",
       "      <td>4255689.0</td>\n",
       "      <td>4238389.0</td>\n",
       "    </tr>\n",
       "  </tbody>\n",
       "</table>\n",
       "</div>"
      ],
      "text/plain": [
       "                                         1995       1996       1997  \\\n",
       "CountryName            CountryCode                                    \n",
       "Bosnia and Herzegovina BIH          3879278.0  3810649.0  3779354.0   \n",
       "Croatia                HRV          4669000.0  4494000.0  4572000.0   \n",
       "\n",
       "                                         1998       1999       2000  \\\n",
       "CountryName            CountryCode                                    \n",
       "Bosnia and Herzegovina BIH          3775898.0  3784389.0  3792878.0   \n",
       "Croatia                HRV          4501000.0  4554000.0  4426000.0   \n",
       "\n",
       "                                         2001       2002       2003  \\\n",
       "CountryName            CountryCode                                    \n",
       "Bosnia and Herzegovina BIH          3799747.0  3808347.0  3817313.0   \n",
       "Croatia                HRV          4440000.0  4440000.0  4440000.0   \n",
       "\n",
       "                                         2004       2005       2006  \\\n",
       "CountryName            CountryCode                                    \n",
       "Bosnia and Herzegovina BIH          3825872.0  3833377.0  3838504.0   \n",
       "Croatia                HRV          4439000.0  4442000.0  4440000.0   \n",
       "\n",
       "                                         2007       2008       2009  \\\n",
       "CountryName            CountryCode                                    \n",
       "Bosnia and Herzegovina BIH          3840418.0  3839749.0  3837732.0   \n",
       "Croatia                HRV          4436000.0  4434508.0  4429078.0   \n",
       "\n",
       "                                         2010       2011       2012  \\\n",
       "CountryName            CountryCode                                    \n",
       "Bosnia and Herzegovina BIH          3835258.0  3832310.0  3828419.0   \n",
       "Croatia                HRV          4417781.0  4280622.0  4267558.0   \n",
       "\n",
       "                                         2013       2014  \n",
       "CountryName            CountryCode                        \n",
       "Bosnia and Herzegovina BIH          3823533.0  3817554.0  \n",
       "Croatia                HRV          4255689.0  4238389.0  "
      ]
     },
     "execution_count": 12,
     "metadata": {},
     "output_type": "execute_result"
    }
   ],
   "source": [
    "pop_yt = pop_y.transpose()\n",
    "pop_yt.head(2)"
   ]
  },
  {
   "cell_type": "markdown",
   "metadata": {},
   "source": [
    "**Calculate population growth/decline for the time frame 1995 - 2014**\n",
    "\n",
    "\n",
    "\n",
    "\n",
    "Formula:\n",
    "\n",
    "\n",
    "$\\displaystyle PR = \\frac{(V_{Present} - V_{Past})}{V_{Past}} * 100$    \n",
    "\n",
    "where\n",
    "\n",
    "$PR$ = Percent Rate; $V_{Present}$ = Present Value; $V_{Past}$ = Past Value\n",
    "\n"
   ]
  },
  {
   "cell_type": "code",
   "execution_count": 13,
   "metadata": {
    "ExecuteTime": {
     "end_time": "2020-06-29T17:28:49.719800Z",
     "start_time": "2020-06-29T17:28:49.690490Z"
    }
   },
   "outputs": [
    {
     "data": {
      "text/html": [
       "<div>\n",
       "<style scoped>\n",
       "    .dataframe tbody tr th:only-of-type {\n",
       "        vertical-align: middle;\n",
       "    }\n",
       "\n",
       "    .dataframe tbody tr th {\n",
       "        vertical-align: top;\n",
       "    }\n",
       "\n",
       "    .dataframe thead th {\n",
       "        text-align: right;\n",
       "    }\n",
       "</style>\n",
       "<table border=\"1\" class=\"dataframe\">\n",
       "  <thead>\n",
       "    <tr style=\"text-align: right;\">\n",
       "      <th></th>\n",
       "      <th></th>\n",
       "      <th>1995</th>\n",
       "      <th>1996</th>\n",
       "      <th>1997</th>\n",
       "      <th>1998</th>\n",
       "      <th>1999</th>\n",
       "      <th>2000</th>\n",
       "      <th>2001</th>\n",
       "      <th>2002</th>\n",
       "      <th>2003</th>\n",
       "      <th>2004</th>\n",
       "      <th>...</th>\n",
       "      <th>2006</th>\n",
       "      <th>2007</th>\n",
       "      <th>2008</th>\n",
       "      <th>2009</th>\n",
       "      <th>2010</th>\n",
       "      <th>2011</th>\n",
       "      <th>2012</th>\n",
       "      <th>2013</th>\n",
       "      <th>2014</th>\n",
       "      <th>Population growth</th>\n",
       "    </tr>\n",
       "    <tr>\n",
       "      <th>CountryName</th>\n",
       "      <th>CountryCode</th>\n",
       "      <th></th>\n",
       "      <th></th>\n",
       "      <th></th>\n",
       "      <th></th>\n",
       "      <th></th>\n",
       "      <th></th>\n",
       "      <th></th>\n",
       "      <th></th>\n",
       "      <th></th>\n",
       "      <th></th>\n",
       "      <th></th>\n",
       "      <th></th>\n",
       "      <th></th>\n",
       "      <th></th>\n",
       "      <th></th>\n",
       "      <th></th>\n",
       "      <th></th>\n",
       "      <th></th>\n",
       "      <th></th>\n",
       "      <th></th>\n",
       "      <th></th>\n",
       "    </tr>\n",
       "  </thead>\n",
       "  <tbody>\n",
       "    <tr>\n",
       "      <th>Bosnia and Herzegovina</th>\n",
       "      <th>BIH</th>\n",
       "      <td>3879278.0</td>\n",
       "      <td>3810649.0</td>\n",
       "      <td>3779354.0</td>\n",
       "      <td>3775898.0</td>\n",
       "      <td>3784389.0</td>\n",
       "      <td>3792878.0</td>\n",
       "      <td>3799747.0</td>\n",
       "      <td>3808347.0</td>\n",
       "      <td>3817313.0</td>\n",
       "      <td>3825872.0</td>\n",
       "      <td>...</td>\n",
       "      <td>3838504.0</td>\n",
       "      <td>3840418.0</td>\n",
       "      <td>3839749.0</td>\n",
       "      <td>3837732.0</td>\n",
       "      <td>3835258.0</td>\n",
       "      <td>3832310.0</td>\n",
       "      <td>3828419.0</td>\n",
       "      <td>3823533.0</td>\n",
       "      <td>3817554.0</td>\n",
       "      <td>-1.591121</td>\n",
       "    </tr>\n",
       "    <tr>\n",
       "      <th>Croatia</th>\n",
       "      <th>HRV</th>\n",
       "      <td>4669000.0</td>\n",
       "      <td>4494000.0</td>\n",
       "      <td>4572000.0</td>\n",
       "      <td>4501000.0</td>\n",
       "      <td>4554000.0</td>\n",
       "      <td>4426000.0</td>\n",
       "      <td>4440000.0</td>\n",
       "      <td>4440000.0</td>\n",
       "      <td>4440000.0</td>\n",
       "      <td>4439000.0</td>\n",
       "      <td>...</td>\n",
       "      <td>4440000.0</td>\n",
       "      <td>4436000.0</td>\n",
       "      <td>4434508.0</td>\n",
       "      <td>4429078.0</td>\n",
       "      <td>4417781.0</td>\n",
       "      <td>4280622.0</td>\n",
       "      <td>4267558.0</td>\n",
       "      <td>4255689.0</td>\n",
       "      <td>4238389.0</td>\n",
       "      <td>-9.222767</td>\n",
       "    </tr>\n",
       "  </tbody>\n",
       "</table>\n",
       "<p>2 rows × 21 columns</p>\n",
       "</div>"
      ],
      "text/plain": [
       "                                         1995       1996       1997  \\\n",
       "CountryName            CountryCode                                    \n",
       "Bosnia and Herzegovina BIH          3879278.0  3810649.0  3779354.0   \n",
       "Croatia                HRV          4669000.0  4494000.0  4572000.0   \n",
       "\n",
       "                                         1998       1999       2000  \\\n",
       "CountryName            CountryCode                                    \n",
       "Bosnia and Herzegovina BIH          3775898.0  3784389.0  3792878.0   \n",
       "Croatia                HRV          4501000.0  4554000.0  4426000.0   \n",
       "\n",
       "                                         2001       2002       2003  \\\n",
       "CountryName            CountryCode                                    \n",
       "Bosnia and Herzegovina BIH          3799747.0  3808347.0  3817313.0   \n",
       "Croatia                HRV          4440000.0  4440000.0  4440000.0   \n",
       "\n",
       "                                         2004  ...       2006       2007  \\\n",
       "CountryName            CountryCode             ...                         \n",
       "Bosnia and Herzegovina BIH          3825872.0  ...  3838504.0  3840418.0   \n",
       "Croatia                HRV          4439000.0  ...  4440000.0  4436000.0   \n",
       "\n",
       "                                         2008       2009       2010  \\\n",
       "CountryName            CountryCode                                    \n",
       "Bosnia and Herzegovina BIH          3839749.0  3837732.0  3835258.0   \n",
       "Croatia                HRV          4434508.0  4429078.0  4417781.0   \n",
       "\n",
       "                                         2011       2012       2013  \\\n",
       "CountryName            CountryCode                                    \n",
       "Bosnia and Herzegovina BIH          3832310.0  3828419.0  3823533.0   \n",
       "Croatia                HRV          4280622.0  4267558.0  4255689.0   \n",
       "\n",
       "                                         2014  Population growth  \n",
       "CountryName            CountryCode                                \n",
       "Bosnia and Herzegovina BIH          3817554.0          -1.591121  \n",
       "Croatia                HRV          4238389.0          -9.222767  \n",
       "\n",
       "[2 rows x 21 columns]"
      ]
     },
     "execution_count": 13,
     "metadata": {},
     "output_type": "execute_result"
    }
   ],
   "source": [
    "pop_yt['Population growth'] = ((pop_yt[2014] - pop_yt[1995]) / pop_yt[1995]) * 100\n",
    "pop_yt.head(2)"
   ]
  },
  {
   "cell_type": "code",
   "execution_count": 14,
   "metadata": {
    "ExecuteTime": {
     "end_time": "2020-06-29T17:28:49.750582Z",
     "start_time": "2020-06-29T17:28:49.721527Z"
    }
   },
   "outputs": [
    {
     "data": {
      "text/html": [
       "<div>\n",
       "<style scoped>\n",
       "    .dataframe tbody tr th:only-of-type {\n",
       "        vertical-align: middle;\n",
       "    }\n",
       "\n",
       "    .dataframe tbody tr th {\n",
       "        vertical-align: top;\n",
       "    }\n",
       "\n",
       "    .dataframe thead th {\n",
       "        text-align: right;\n",
       "    }\n",
       "</style>\n",
       "<table border=\"1\" class=\"dataframe\">\n",
       "  <thead>\n",
       "    <tr style=\"text-align: right;\">\n",
       "      <th></th>\n",
       "      <th>CountryName</th>\n",
       "      <th>CountryCode</th>\n",
       "      <th>1995</th>\n",
       "      <th>1996</th>\n",
       "      <th>1997</th>\n",
       "      <th>1998</th>\n",
       "      <th>1999</th>\n",
       "      <th>2000</th>\n",
       "      <th>2001</th>\n",
       "      <th>2002</th>\n",
       "      <th>...</th>\n",
       "      <th>2006</th>\n",
       "      <th>2007</th>\n",
       "      <th>2008</th>\n",
       "      <th>2009</th>\n",
       "      <th>2010</th>\n",
       "      <th>2011</th>\n",
       "      <th>2012</th>\n",
       "      <th>2013</th>\n",
       "      <th>2014</th>\n",
       "      <th>Population growth</th>\n",
       "    </tr>\n",
       "  </thead>\n",
       "  <tbody>\n",
       "    <tr>\n",
       "      <th>0</th>\n",
       "      <td>Bosnia and Herzegovina</td>\n",
       "      <td>BIH</td>\n",
       "      <td>3879278.0</td>\n",
       "      <td>3810649.0</td>\n",
       "      <td>3779354.0</td>\n",
       "      <td>3775898.0</td>\n",
       "      <td>3784389.0</td>\n",
       "      <td>3792878.0</td>\n",
       "      <td>3799747.0</td>\n",
       "      <td>3808347.0</td>\n",
       "      <td>...</td>\n",
       "      <td>3838504.0</td>\n",
       "      <td>3840418.0</td>\n",
       "      <td>3839749.0</td>\n",
       "      <td>3837732.0</td>\n",
       "      <td>3835258.0</td>\n",
       "      <td>3832310.0</td>\n",
       "      <td>3828419.0</td>\n",
       "      <td>3823533.0</td>\n",
       "      <td>3817554.0</td>\n",
       "      <td>-1.591121</td>\n",
       "    </tr>\n",
       "    <tr>\n",
       "      <th>1</th>\n",
       "      <td>Croatia</td>\n",
       "      <td>HRV</td>\n",
       "      <td>4669000.0</td>\n",
       "      <td>4494000.0</td>\n",
       "      <td>4572000.0</td>\n",
       "      <td>4501000.0</td>\n",
       "      <td>4554000.0</td>\n",
       "      <td>4426000.0</td>\n",
       "      <td>4440000.0</td>\n",
       "      <td>4440000.0</td>\n",
       "      <td>...</td>\n",
       "      <td>4440000.0</td>\n",
       "      <td>4436000.0</td>\n",
       "      <td>4434508.0</td>\n",
       "      <td>4429078.0</td>\n",
       "      <td>4417781.0</td>\n",
       "      <td>4280622.0</td>\n",
       "      <td>4267558.0</td>\n",
       "      <td>4255689.0</td>\n",
       "      <td>4238389.0</td>\n",
       "      <td>-9.222767</td>\n",
       "    </tr>\n",
       "  </tbody>\n",
       "</table>\n",
       "<p>2 rows × 23 columns</p>\n",
       "</div>"
      ],
      "text/plain": [
       "              CountryName CountryCode       1995       1996       1997  \\\n",
       "0  Bosnia and Herzegovina         BIH  3879278.0  3810649.0  3779354.0   \n",
       "1                 Croatia         HRV  4669000.0  4494000.0  4572000.0   \n",
       "\n",
       "        1998       1999       2000       2001       2002  ...       2006  \\\n",
       "0  3775898.0  3784389.0  3792878.0  3799747.0  3808347.0  ...  3838504.0   \n",
       "1  4501000.0  4554000.0  4426000.0  4440000.0  4440000.0  ...  4440000.0   \n",
       "\n",
       "        2007       2008       2009       2010       2011       2012  \\\n",
       "0  3840418.0  3839749.0  3837732.0  3835258.0  3832310.0  3828419.0   \n",
       "1  4436000.0  4434508.0  4429078.0  4417781.0  4280622.0  4267558.0   \n",
       "\n",
       "        2013       2014  Population growth  \n",
       "0  3823533.0  3817554.0          -1.591121  \n",
       "1  4255689.0  4238389.0          -9.222767  \n",
       "\n",
       "[2 rows x 23 columns]"
      ]
     },
     "execution_count": 14,
     "metadata": {},
     "output_type": "execute_result"
    }
   ],
   "source": [
    "pop_yt.reset_index(inplace=True)\n",
    "pop_yt.head(2)"
   ]
  },
  {
   "cell_type": "markdown",
   "metadata": {},
   "source": [
    "### Setup data for plotting. \n",
    "\n",
    "Create the data frame with just country codes and population growth values.\n"
   ]
  },
  {
   "cell_type": "code",
   "execution_count": 15,
   "metadata": {
    "ExecuteTime": {
     "end_time": "2020-06-29T17:28:49.766573Z",
     "start_time": "2020-06-29T17:28:49.752543Z"
    }
   },
   "outputs": [
    {
     "data": {
      "text/html": [
       "<div>\n",
       "<style scoped>\n",
       "    .dataframe tbody tr th:only-of-type {\n",
       "        vertical-align: middle;\n",
       "    }\n",
       "\n",
       "    .dataframe tbody tr th {\n",
       "        vertical-align: top;\n",
       "    }\n",
       "\n",
       "    .dataframe thead th {\n",
       "        text-align: right;\n",
       "    }\n",
       "</style>\n",
       "<table border=\"1\" class=\"dataframe\">\n",
       "  <thead>\n",
       "    <tr style=\"text-align: right;\">\n",
       "      <th></th>\n",
       "      <th>CountryCode</th>\n",
       "      <th>Population growth</th>\n",
       "    </tr>\n",
       "  </thead>\n",
       "  <tbody>\n",
       "    <tr>\n",
       "      <th>0</th>\n",
       "      <td>BIH</td>\n",
       "      <td>-1.591121</td>\n",
       "    </tr>\n",
       "    <tr>\n",
       "      <th>1</th>\n",
       "      <td>HRV</td>\n",
       "      <td>-9.222767</td>\n",
       "    </tr>\n",
       "    <tr>\n",
       "      <th>2</th>\n",
       "      <td>KSV</td>\n",
       "      <td>-10.145441</td>\n",
       "    </tr>\n",
       "    <tr>\n",
       "      <th>3</th>\n",
       "      <td>MKD</td>\n",
       "      <td>6.249207</td>\n",
       "    </tr>\n",
       "    <tr>\n",
       "      <th>4</th>\n",
       "      <td>MNE</td>\n",
       "      <td>2.204514</td>\n",
       "    </tr>\n",
       "    <tr>\n",
       "      <th>5</th>\n",
       "      <td>SRB</td>\n",
       "      <td>-6.503682</td>\n",
       "    </tr>\n",
       "    <tr>\n",
       "      <th>6</th>\n",
       "      <td>SVN</td>\n",
       "      <td>3.635711</td>\n",
       "    </tr>\n",
       "  </tbody>\n",
       "</table>\n",
       "</div>"
      ],
      "text/plain": [
       "  CountryCode  Population growth\n",
       "0         BIH          -1.591121\n",
       "1         HRV          -9.222767\n",
       "2         KSV         -10.145441\n",
       "3         MKD           6.249207\n",
       "4         MNE           2.204514\n",
       "5         SRB          -6.503682\n",
       "6         SVN           3.635711"
      ]
     },
     "execution_count": 15,
     "metadata": {},
     "output_type": "execute_result"
    }
   ],
   "source": [
    "plot_data = pop_yt[['CountryCode','Population growth']]\n",
    "plot_data"
   ]
  },
  {
   "cell_type": "markdown",
   "metadata": {},
   "source": [
    "**Country coordinates for plotting**"
   ]
  },
  {
   "cell_type": "code",
   "execution_count": 16,
   "metadata": {
    "ExecuteTime": {
     "end_time": "2020-06-29T17:28:49.782541Z",
     "start_time": "2020-06-29T17:28:49.768543Z"
    }
   },
   "outputs": [],
   "source": [
    "country_geo = './Data/yugo-countries.json'"
   ]
  },
  {
   "cell_type": "markdown",
   "metadata": {},
   "source": [
    "**Setup folium and choropleth maps**"
   ]
  },
  {
   "cell_type": "code",
   "execution_count": 17,
   "metadata": {
    "ExecuteTime": {
     "end_time": "2020-06-29T17:28:49.828541Z",
     "start_time": "2020-06-29T17:28:49.784540Z"
    }
   },
   "outputs": [
    {
     "data": {
      "text/plain": [
       "<folium.map.LayerControl at 0x200c1303550>"
      ]
     },
     "execution_count": 17,
     "metadata": {},
     "output_type": "execute_result"
    }
   ],
   "source": [
    "# create a plain map of ex-Yugoslavia\n",
    "yugo_map = folium.Map(\n",
    "    location=[43.84864, 18.35644],\n",
    "    tiles='openstreetmap',\n",
    "    zoom_start=7\n",
    ")\n",
    "\n",
    "# generate choropleth map using the population growth of each country from 1995 to 2014\n",
    "folium.Choropleth(\n",
    "    geo_data=country_geo,\n",
    "    data=plot_data,\n",
    "    columns=['CountryCode','Population growth'],\n",
    "    key_on='feature.id',\n",
    "    fill_color='YlOrRd',\n",
    "    fill_opacity=0.6,\n",
    "    line_opacity=0.2,\n",
    "    legend_name='Population Growth (%)'\n",
    ").add_to(yugo_map)\n",
    "\n",
    "folium.LayerControl().add_to(yugo_map)\n"
   ]
  },
  {
   "cell_type": "code",
   "execution_count": 18,
   "metadata": {
    "ExecuteTime": {
     "end_time": "2020-06-29T17:28:49.860591Z",
     "start_time": "2020-06-29T17:28:49.830544Z"
    }
   },
   "outputs": [],
   "source": [
    "# Create Folium plot\n",
    "yugo_map.save('./Figures/yugo_pop_growth.html')"
   ]
  },
  {
   "cell_type": "markdown",
   "metadata": {},
   "source": [
    "Negative population growth values mean population decline.\n",
    "\n",
    "In the next steps we will reserach data for Croatia (9.2 % population decline since 1995)."
   ]
  },
  {
   "cell_type": "code",
   "execution_count": 19,
   "metadata": {
    "ExecuteTime": {
     "end_time": "2020-06-29T17:28:49.876543Z",
     "start_time": "2020-06-29T17:28:49.862540Z"
    }
   },
   "outputs": [
    {
     "data": {
      "text/html": [
       "\n",
       "        <iframe\n",
       "            width=\"900\"\n",
       "            height=\"800\"\n",
       "            src=\"./Figures/yugo_pop_growth.html\"\n",
       "            frameborder=\"0\"\n",
       "            allowfullscreen\n",
       "        ></iframe>\n",
       "        "
      ],
      "text/plain": [
       "<IPython.lib.display.IFrame at 0x200c1347a20>"
      ]
     },
     "execution_count": 19,
     "metadata": {},
     "output_type": "execute_result"
    }
   ],
   "source": [
    "# Import the Folium interactive html file\n",
    "from IPython.display import IFrame\n",
    "IFrame(src='./Figures/yugo_pop_growth.html', width='900', height='800')"
   ]
  },
  {
   "cell_type": "markdown",
   "metadata": {},
   "source": [
    "## Display \"Net Migration\" for Croatia\n",
    "\n"
   ]
  },
  {
   "cell_type": "markdown",
   "metadata": {},
   "source": [
    "Data frame for all countries is available from 1962 - 2012 in 5 years steps. No data for Kososvo, and some data misisng for Serbia."
   ]
  },
  {
   "cell_type": "code",
   "execution_count": 20,
   "metadata": {
    "ExecuteTime": {
     "end_time": "2020-06-29T17:28:51.917137Z",
     "start_time": "2020-06-29T17:28:49.878542Z"
    },
    "scrolled": true
   },
   "outputs": [
    {
     "data": {
      "text/html": [
       "<div>\n",
       "<style scoped>\n",
       "    .dataframe tbody tr th:only-of-type {\n",
       "        vertical-align: middle;\n",
       "    }\n",
       "\n",
       "    .dataframe tbody tr th {\n",
       "        vertical-align: top;\n",
       "    }\n",
       "\n",
       "    .dataframe thead th {\n",
       "        text-align: right;\n",
       "    }\n",
       "</style>\n",
       "<table border=\"1\" class=\"dataframe\">\n",
       "  <thead>\n",
       "    <tr style=\"text-align: right;\">\n",
       "      <th></th>\n",
       "      <th>CountryName</th>\n",
       "      <th>CountryCode</th>\n",
       "      <th>IndicatorName</th>\n",
       "      <th>IndicatorCode</th>\n",
       "      <th>Year</th>\n",
       "      <th>Value</th>\n",
       "    </tr>\n",
       "  </thead>\n",
       "  <tbody>\n",
       "    <tr>\n",
       "      <th>56575</th>\n",
       "      <td>Bosnia and Herzegovina</td>\n",
       "      <td>BIH</td>\n",
       "      <td>Net migration</td>\n",
       "      <td>SM.POP.NETM</td>\n",
       "      <td>1962</td>\n",
       "      <td>-50002.0</td>\n",
       "    </tr>\n",
       "    <tr>\n",
       "      <th>59850</th>\n",
       "      <td>Croatia</td>\n",
       "      <td>HRV</td>\n",
       "      <td>Net migration</td>\n",
       "      <td>SM.POP.NETM</td>\n",
       "      <td>1962</td>\n",
       "      <td>1854.0</td>\n",
       "    </tr>\n",
       "    <tr>\n",
       "      <th>67328</th>\n",
       "      <td>Macedonia, FYR</td>\n",
       "      <td>MKD</td>\n",
       "      <td>Net migration</td>\n",
       "      <td>SM.POP.NETM</td>\n",
       "      <td>1962</td>\n",
       "      <td>-40940.0</td>\n",
       "    </tr>\n",
       "    <tr>\n",
       "      <th>68817</th>\n",
       "      <td>Montenegro</td>\n",
       "      <td>MNE</td>\n",
       "      <td>Net migration</td>\n",
       "      <td>SM.POP.NETM</td>\n",
       "      <td>1962</td>\n",
       "      <td>-2001.0</td>\n",
       "    </tr>\n",
       "    <tr>\n",
       "      <th>73296</th>\n",
       "      <td>Slovenia</td>\n",
       "      <td>SVN</td>\n",
       "      <td>Net migration</td>\n",
       "      <td>SM.POP.NETM</td>\n",
       "      <td>1962</td>\n",
       "      <td>-22059.0</td>\n",
       "    </tr>\n",
       "  </tbody>\n",
       "</table>\n",
       "</div>"
      ],
      "text/plain": [
       "                  CountryName CountryCode  IndicatorName IndicatorCode  Year  \\\n",
       "56575  Bosnia and Herzegovina         BIH  Net migration   SM.POP.NETM  1962   \n",
       "59850                 Croatia         HRV  Net migration   SM.POP.NETM  1962   \n",
       "67328          Macedonia, FYR         MKD  Net migration   SM.POP.NETM  1962   \n",
       "68817              Montenegro         MNE  Net migration   SM.POP.NETM  1962   \n",
       "73296                Slovenia         SVN  Net migration   SM.POP.NETM  1962   \n",
       "\n",
       "         Value  \n",
       "56575 -50002.0  \n",
       "59850   1854.0  \n",
       "67328 -40940.0  \n",
       "68817  -2001.0  \n",
       "73296 -22059.0  "
      ]
     },
     "execution_count": 20,
     "metadata": {},
     "output_type": "execute_result"
    }
   ],
   "source": [
    "maskm = data['IndicatorName'].str.contains('Net migration')\n",
    "migr_yugo = data[masky & maskm]\n",
    "migr_yugo.head()"
   ]
  },
  {
   "cell_type": "markdown",
   "metadata": {},
   "source": [
    "**Transform the dataframe**"
   ]
  },
  {
   "cell_type": "code",
   "execution_count": 21,
   "metadata": {
    "ExecuteTime": {
     "end_time": "2020-06-29T17:28:51.932134Z",
     "start_time": "2020-06-29T17:28:51.919137Z"
    }
   },
   "outputs": [
    {
     "data": {
      "text/html": [
       "<div>\n",
       "<style scoped>\n",
       "    .dataframe tbody tr th:only-of-type {\n",
       "        vertical-align: middle;\n",
       "    }\n",
       "\n",
       "    .dataframe tbody tr th {\n",
       "        vertical-align: top;\n",
       "    }\n",
       "\n",
       "    .dataframe thead th {\n",
       "        text-align: right;\n",
       "    }\n",
       "</style>\n",
       "<table border=\"1\" class=\"dataframe\">\n",
       "  <thead>\n",
       "    <tr style=\"text-align: right;\">\n",
       "      <th></th>\n",
       "      <th>Country</th>\n",
       "      <th>Year</th>\n",
       "      <th>Value</th>\n",
       "    </tr>\n",
       "  </thead>\n",
       "  <tbody>\n",
       "    <tr>\n",
       "      <th>56575</th>\n",
       "      <td>Bosnia and Herzegovina</td>\n",
       "      <td>1962</td>\n",
       "      <td>-50002.0</td>\n",
       "    </tr>\n",
       "    <tr>\n",
       "      <th>59850</th>\n",
       "      <td>Croatia</td>\n",
       "      <td>1962</td>\n",
       "      <td>1854.0</td>\n",
       "    </tr>\n",
       "    <tr>\n",
       "      <th>67328</th>\n",
       "      <td>Macedonia, FYR</td>\n",
       "      <td>1962</td>\n",
       "      <td>-40940.0</td>\n",
       "    </tr>\n",
       "    <tr>\n",
       "      <th>68817</th>\n",
       "      <td>Montenegro</td>\n",
       "      <td>1962</td>\n",
       "      <td>-2001.0</td>\n",
       "    </tr>\n",
       "    <tr>\n",
       "      <th>73296</th>\n",
       "      <td>Slovenia</td>\n",
       "      <td>1962</td>\n",
       "      <td>-22059.0</td>\n",
       "    </tr>\n",
       "  </tbody>\n",
       "</table>\n",
       "</div>"
      ],
      "text/plain": [
       "                      Country  Year    Value\n",
       "56575  Bosnia and Herzegovina  1962 -50002.0\n",
       "59850                 Croatia  1962   1854.0\n",
       "67328          Macedonia, FYR  1962 -40940.0\n",
       "68817              Montenegro  1962  -2001.0\n",
       "73296                Slovenia  1962 -22059.0"
      ]
     },
     "execution_count": 21,
     "metadata": {},
     "output_type": "execute_result"
    }
   ],
   "source": [
    "df_yugo = migr_yugo.drop(['CountryCode','IndicatorCode','IndicatorName'],axis=1)\n",
    "df_yugo.rename(columns={'CountryName':'Country'}, inplace=True)\n",
    "df_yugo.head()"
   ]
  },
  {
   "cell_type": "code",
   "execution_count": 22,
   "metadata": {
    "ExecuteTime": {
     "end_time": "2020-06-29T17:28:51.962137Z",
     "start_time": "2020-06-29T17:28:51.934137Z"
    }
   },
   "outputs": [
    {
     "data": {
      "text/html": [
       "<div>\n",
       "<style scoped>\n",
       "    .dataframe tbody tr th:only-of-type {\n",
       "        vertical-align: middle;\n",
       "    }\n",
       "\n",
       "    .dataframe tbody tr th {\n",
       "        vertical-align: top;\n",
       "    }\n",
       "\n",
       "    .dataframe thead th {\n",
       "        text-align: right;\n",
       "    }\n",
       "</style>\n",
       "<table border=\"1\" class=\"dataframe\">\n",
       "  <thead>\n",
       "    <tr style=\"text-align: right;\">\n",
       "      <th>Country</th>\n",
       "      <th>Bosnia and Herzegovina</th>\n",
       "      <th>Croatia</th>\n",
       "      <th>Macedonia, FYR</th>\n",
       "      <th>Montenegro</th>\n",
       "      <th>Serbia</th>\n",
       "      <th>Slovenia</th>\n",
       "    </tr>\n",
       "    <tr>\n",
       "      <th>Year</th>\n",
       "      <th></th>\n",
       "      <th></th>\n",
       "      <th></th>\n",
       "      <th></th>\n",
       "      <th></th>\n",
       "      <th></th>\n",
       "    </tr>\n",
       "  </thead>\n",
       "  <tbody>\n",
       "    <tr>\n",
       "      <th>1962</th>\n",
       "      <td>-50002.0</td>\n",
       "      <td>1854.0</td>\n",
       "      <td>-40940.0</td>\n",
       "      <td>-2001.0</td>\n",
       "      <td>NaN</td>\n",
       "      <td>-22059.0</td>\n",
       "    </tr>\n",
       "    <tr>\n",
       "      <th>1967</th>\n",
       "      <td>-99999.0</td>\n",
       "      <td>-1225.0</td>\n",
       "      <td>-28981.0</td>\n",
       "      <td>-53773.0</td>\n",
       "      <td>NaN</td>\n",
       "      <td>-14950.0</td>\n",
       "    </tr>\n",
       "    <tr>\n",
       "      <th>1972</th>\n",
       "      <td>-74999.0</td>\n",
       "      <td>-18403.0</td>\n",
       "      <td>-61002.0</td>\n",
       "      <td>-2001.0</td>\n",
       "      <td>NaN</td>\n",
       "      <td>17942.0</td>\n",
       "    </tr>\n",
       "    <tr>\n",
       "      <th>1977</th>\n",
       "      <td>-74999.0</td>\n",
       "      <td>18681.0</td>\n",
       "      <td>-14749.0</td>\n",
       "      <td>-7401.0</td>\n",
       "      <td>NaN</td>\n",
       "      <td>34686.0</td>\n",
       "    </tr>\n",
       "    <tr>\n",
       "      <th>1982</th>\n",
       "      <td>-29999.0</td>\n",
       "      <td>54369.0</td>\n",
       "      <td>-72752.0</td>\n",
       "      <td>-2001.0</td>\n",
       "      <td>NaN</td>\n",
       "      <td>68363.0</td>\n",
       "    </tr>\n",
       "  </tbody>\n",
       "</table>\n",
       "</div>"
      ],
      "text/plain": [
       "Country  Bosnia and Herzegovina  Croatia  Macedonia, FYR  Montenegro  Serbia  \\\n",
       "Year                                                                           \n",
       "1962                   -50002.0   1854.0        -40940.0     -2001.0     NaN   \n",
       "1967                   -99999.0  -1225.0        -28981.0    -53773.0     NaN   \n",
       "1972                   -74999.0 -18403.0        -61002.0     -2001.0     NaN   \n",
       "1977                   -74999.0  18681.0        -14749.0     -7401.0     NaN   \n",
       "1982                   -29999.0  54369.0        -72752.0     -2001.0     NaN   \n",
       "\n",
       "Country  Slovenia  \n",
       "Year               \n",
       "1962     -22059.0  \n",
       "1967     -14950.0  \n",
       "1972      17942.0  \n",
       "1977      34686.0  \n",
       "1982      68363.0  "
      ]
     },
     "execution_count": 22,
     "metadata": {},
     "output_type": "execute_result"
    }
   ],
   "source": [
    "migr_y = df_yugo.pivot_table(values='Value',columns='Country',index='Year')\n",
    "migr_y.head()"
   ]
  },
  {
   "cell_type": "markdown",
   "metadata": {},
   "source": [
    "**Plot net migration for all ex-Yugoslavia countries**"
   ]
  },
  {
   "cell_type": "code",
   "execution_count": 23,
   "metadata": {
    "ExecuteTime": {
     "end_time": "2020-06-29T17:28:52.293181Z",
     "start_time": "2020-06-29T17:28:51.965137Z"
    }
   },
   "outputs": [
    {
     "data": {
      "image/png": "[encoded data removed]",
      "text/plain": [
       "<Figure size 576x432 with 1 Axes>"
      ]
     },
     "metadata": {
      "needs_background": "light"
     },
     "output_type": "display_data"
    }
   ],
   "source": [
    "ax = migr_y.plot(kind='bar', stacked=True, figsize=(8, 6), colormap='Paired')\n",
    "\n",
    "ax.set_title ('Net Migration for ex-Yugoslavia Countries (1962 - 2012)',fontsize=14)\n",
    "ax.set_ylabel('Number of People',fontsize=12)\n",
    "ax.set_xlabel('Year',fontsize=12)\n",
    "ax.yaxis.grid(True)\n"
   ]
  },
  {
   "cell_type": "markdown",
   "metadata": {},
   "source": [
    "* During the war the highest emigration was from Bosnia and Herzegovina. Much less form Croatia and Macedonia.\n",
    "\n",
    "* During the same period we see high immigration to Serbia.\n",
    "\n",
    "* After the war the highest emigration was from Serbia. People were still emigrating from Croatia and Bosnia and Herzegovina."
   ]
  },
  {
   "cell_type": "markdown",
   "metadata": {},
   "source": [
    "Let's now concentrate on Croatia only."
   ]
  },
  {
   "cell_type": "markdown",
   "metadata": {},
   "source": [
    "**Plot Net Migration for Croatia**"
   ]
  },
  {
   "cell_type": "code",
   "execution_count": 24,
   "metadata": {
    "ExecuteTime": {
     "end_time": "2020-06-29T17:28:52.450245Z",
     "start_time": "2020-06-29T17:28:52.294216Z"
    }
   },
   "outputs": [
    {
     "data": {
      "image/png": "[encoded data removed]",
      "text/plain": [
       "<Figure size 576x432 with 1 Axes>"
      ]
     },
     "metadata": {
      "needs_background": "light"
     },
     "output_type": "display_data"
    }
   ],
   "source": [
    "fig = plt.figure() # create figure\n",
    "\n",
    "ax = migr_y['Croatia'].plot(kind='bar', figsize=(8, 6),color='purple')\n",
    "\n",
    "ax.set_title ('Net Migration for Croatia (1962 - 2012)',fontsize=14)\n",
    "ax.set_ylabel('Number of People',fontsize=12)\n",
    "ax.set_xlabel('Year',fontsize=12)\n",
    "ax.yaxis.grid(True)\n",
    "\n",
    "# fig.savefig(\"migration_bars.png\")"
   ]
  },
  {
   "cell_type": "markdown",
   "metadata": {},
   "source": [
    "Negative values are **emigration** and positive values are **immigration**. Emigration was high at 90's, during and after the Yugoslav wars. There was a smaller, but still significant, increase in emigration after the Great Recession (2008).\n"
   ]
  },
  {
   "cell_type": "markdown",
   "metadata": {},
   "source": [
    "## Display GDP and population growth for Croatia (1995 - 2014)\n"
   ]
  },
  {
   "cell_type": "markdown",
   "metadata": {},
   "source": [
    "### Prepare GDP dataframes for Croatia"
   ]
  },
  {
   "cell_type": "code",
   "execution_count": 25,
   "metadata": {
    "ExecuteTime": {
     "end_time": "2020-06-29T17:28:54.519225Z",
     "start_time": "2020-06-29T17:28:52.452215Z"
    }
   },
   "outputs": [
    {
     "data": {
      "text/html": [
       "<div>\n",
       "<style scoped>\n",
       "    .dataframe tbody tr th:only-of-type {\n",
       "        vertical-align: middle;\n",
       "    }\n",
       "\n",
       "    .dataframe tbody tr th {\n",
       "        vertical-align: top;\n",
       "    }\n",
       "\n",
       "    .dataframe thead th {\n",
       "        text-align: right;\n",
       "    }\n",
       "</style>\n",
       "<table border=\"1\" class=\"dataframe\">\n",
       "  <thead>\n",
       "    <tr style=\"text-align: right;\">\n",
       "      <th></th>\n",
       "      <th>CountryName</th>\n",
       "      <th>CountryCode</th>\n",
       "      <th>IndicatorName</th>\n",
       "      <th>IndicatorCode</th>\n",
       "      <th>Year</th>\n",
       "      <th>Value</th>\n",
       "    </tr>\n",
       "  </thead>\n",
       "  <tbody>\n",
       "    <tr>\n",
       "      <th>2528582</th>\n",
       "      <td>Croatia</td>\n",
       "      <td>HRV</td>\n",
       "      <td>GDP per capita (constant 2005 US$)</td>\n",
       "      <td>NY.GDP.PCAP.KD</td>\n",
       "      <td>1995</td>\n",
       "      <td>6603.965627</td>\n",
       "    </tr>\n",
       "    <tr>\n",
       "      <th>2663607</th>\n",
       "      <td>Croatia</td>\n",
       "      <td>HRV</td>\n",
       "      <td>GDP per capita (constant 2005 US$)</td>\n",
       "      <td>NY.GDP.PCAP.KD</td>\n",
       "      <td>1996</td>\n",
       "      <td>7264.131435</td>\n",
       "    </tr>\n",
       "  </tbody>\n",
       "</table>\n",
       "</div>"
      ],
      "text/plain": [
       "        CountryName CountryCode                       IndicatorName  \\\n",
       "2528582     Croatia         HRV  GDP per capita (constant 2005 US$)   \n",
       "2663607     Croatia         HRV  GDP per capita (constant 2005 US$)   \n",
       "\n",
       "          IndicatorCode  Year        Value  \n",
       "2528582  NY.GDP.PCAP.KD  1995  6603.965627  \n",
       "2663607  NY.GDP.PCAP.KD  1996  7264.131435  "
      ]
     },
     "execution_count": 25,
     "metadata": {},
     "output_type": "execute_result"
    }
   ],
   "source": [
    "gdpi = 'GDP per capita \\(constant 2005'\n",
    "maskg = data['IndicatorName'].str.contains(gdpi)\n",
    "gdp_cro = data[maskg & data['CountryName'].isin(['Croatia'])]\n",
    "gdp_cro = gdp_cro[gdp_cro['Year'] > 1994]\n",
    "gdp_cro.head(2)"
   ]
  },
  {
   "cell_type": "code",
   "execution_count": 26,
   "metadata": {
    "ExecuteTime": {
     "end_time": "2020-06-29T17:28:54.534244Z",
     "start_time": "2020-06-29T17:28:54.522217Z"
    }
   },
   "outputs": [
    {
     "data": {
      "text/html": [
       "<div>\n",
       "<style scoped>\n",
       "    .dataframe tbody tr th:only-of-type {\n",
       "        vertical-align: middle;\n",
       "    }\n",
       "\n",
       "    .dataframe tbody tr th {\n",
       "        vertical-align: top;\n",
       "    }\n",
       "\n",
       "    .dataframe thead th {\n",
       "        text-align: right;\n",
       "    }\n",
       "</style>\n",
       "<table border=\"1\" class=\"dataframe\">\n",
       "  <thead>\n",
       "    <tr style=\"text-align: right;\">\n",
       "      <th></th>\n",
       "      <th>gdp</th>\n",
       "    </tr>\n",
       "    <tr>\n",
       "      <th>Year</th>\n",
       "      <th></th>\n",
       "    </tr>\n",
       "  </thead>\n",
       "  <tbody>\n",
       "    <tr>\n",
       "      <th>1995</th>\n",
       "      <td>6603.965627</td>\n",
       "    </tr>\n",
       "    <tr>\n",
       "      <th>1996</th>\n",
       "      <td>7264.131435</td>\n",
       "    </tr>\n",
       "  </tbody>\n",
       "</table>\n",
       "</div>"
      ],
      "text/plain": [
       "              gdp\n",
       "Year             \n",
       "1995  6603.965627\n",
       "1996  7264.131435"
      ]
     },
     "execution_count": 26,
     "metadata": {},
     "output_type": "execute_result"
    }
   ],
   "source": [
    "# transform dataframe \n",
    "gdp_c = gdp_cro.set_index(['Year']).drop(['IndicatorCode','IndicatorName','CountryCode','CountryName'],axis=1)\n",
    "# rename 'Value' column\n",
    "gdp_c.columns = ['gdp']\n",
    "gdp_c.head(2)"
   ]
  },
  {
   "cell_type": "markdown",
   "metadata": {},
   "source": [
    "### Prepare \"Population, total\" dataframes for Croatia"
   ]
  },
  {
   "cell_type": "code",
   "execution_count": 27,
   "metadata": {
    "ExecuteTime": {
     "end_time": "2020-06-29T17:28:54.626256Z",
     "start_time": "2020-06-29T17:28:54.536217Z"
    }
   },
   "outputs": [
    {
     "data": {
      "text/html": [
       "<div>\n",
       "<style scoped>\n",
       "    .dataframe tbody tr th:only-of-type {\n",
       "        vertical-align: middle;\n",
       "    }\n",
       "\n",
       "    .dataframe tbody tr th {\n",
       "        vertical-align: top;\n",
       "    }\n",
       "\n",
       "    .dataframe thead th {\n",
       "        text-align: right;\n",
       "    }\n",
       "</style>\n",
       "<table border=\"1\" class=\"dataframe\">\n",
       "  <thead>\n",
       "    <tr style=\"text-align: right;\">\n",
       "      <th></th>\n",
       "      <th>CountryName</th>\n",
       "      <th>CountryCode</th>\n",
       "      <th>IndicatorName</th>\n",
       "      <th>IndicatorCode</th>\n",
       "      <th>Year</th>\n",
       "      <th>Value</th>\n",
       "    </tr>\n",
       "  </thead>\n",
       "  <tbody>\n",
       "    <tr>\n",
       "      <th>2528882</th>\n",
       "      <td>Croatia</td>\n",
       "      <td>HRV</td>\n",
       "      <td>Population, total</td>\n",
       "      <td>SP.POP.TOTL</td>\n",
       "      <td>1995</td>\n",
       "      <td>4669000.0</td>\n",
       "    </tr>\n",
       "    <tr>\n",
       "      <th>2663918</th>\n",
       "      <td>Croatia</td>\n",
       "      <td>HRV</td>\n",
       "      <td>Population, total</td>\n",
       "      <td>SP.POP.TOTL</td>\n",
       "      <td>1996</td>\n",
       "      <td>4494000.0</td>\n",
       "    </tr>\n",
       "  </tbody>\n",
       "</table>\n",
       "</div>"
      ],
      "text/plain": [
       "        CountryName CountryCode      IndicatorName IndicatorCode  Year  \\\n",
       "2528882     Croatia         HRV  Population, total   SP.POP.TOTL  1995   \n",
       "2663918     Croatia         HRV  Population, total   SP.POP.TOTL  1996   \n",
       "\n",
       "             Value  \n",
       "2528882  4669000.0  \n",
       "2663918  4494000.0  "
      ]
     },
     "execution_count": 27,
     "metadata": {},
     "output_type": "execute_result"
    }
   ],
   "source": [
    "# maskp = data['IndicatorName'].str.contains('Population, total')\n",
    "pop_cro = data[maskp & data['CountryName'].isin(['Croatia'])]\n",
    "pop_cro = pop_cro[pop_cro['Year'] > 1994]\n",
    "pop_cro.head(2)"
   ]
  },
  {
   "cell_type": "code",
   "execution_count": 28,
   "metadata": {
    "ExecuteTime": {
     "end_time": "2020-06-29T17:28:54.641243Z",
     "start_time": "2020-06-29T17:28:54.627253Z"
    },
    "scrolled": true
   },
   "outputs": [
    {
     "data": {
      "text/html": [
       "<div>\n",
       "<style scoped>\n",
       "    .dataframe tbody tr th:only-of-type {\n",
       "        vertical-align: middle;\n",
       "    }\n",
       "\n",
       "    .dataframe tbody tr th {\n",
       "        vertical-align: top;\n",
       "    }\n",
       "\n",
       "    .dataframe thead th {\n",
       "        text-align: right;\n",
       "    }\n",
       "</style>\n",
       "<table border=\"1\" class=\"dataframe\">\n",
       "  <thead>\n",
       "    <tr style=\"text-align: right;\">\n",
       "      <th></th>\n",
       "      <th>population_total</th>\n",
       "    </tr>\n",
       "    <tr>\n",
       "      <th>Year</th>\n",
       "      <th></th>\n",
       "    </tr>\n",
       "  </thead>\n",
       "  <tbody>\n",
       "    <tr>\n",
       "      <th>1995</th>\n",
       "      <td>4669000.0</td>\n",
       "    </tr>\n",
       "    <tr>\n",
       "      <th>1996</th>\n",
       "      <td>4494000.0</td>\n",
       "    </tr>\n",
       "  </tbody>\n",
       "</table>\n",
       "</div>"
      ],
      "text/plain": [
       "      population_total\n",
       "Year                  \n",
       "1995         4669000.0\n",
       "1996         4494000.0"
      ]
     },
     "execution_count": 28,
     "metadata": {},
     "output_type": "execute_result"
    }
   ],
   "source": [
    "# transform dataframe \n",
    "pop_c = pop_cro.set_index(['Year']).drop(['IndicatorCode','IndicatorName','CountryCode','CountryName'],axis=1)\n",
    "# rename 'Value' column\n",
    "pop_c.columns = ['population_total']\n",
    "pop_c.head(2)"
   ]
  },
  {
   "cell_type": "markdown",
   "metadata": {},
   "source": [
    "### Plot \"Population, total\" for Croatia (1995 - 2014)"
   ]
  },
  {
   "cell_type": "code",
   "execution_count": 29,
   "metadata": {
    "ExecuteTime": {
     "end_time": "2020-06-29T17:28:54.813256Z",
     "start_time": "2020-06-29T17:28:54.642635Z"
    },
    "scrolled": false
   },
   "outputs": [
    {
     "data": {
      "image/png": "[encoded data removed]",
      "text/plain": [
       "<Figure size 576x432 with 1 Axes>"
      ]
     },
     "metadata": {
      "needs_background": "light"
     },
     "output_type": "display_data"
    }
   ],
   "source": [
    "# plt.figure() # create figure\n",
    "\n",
    "ax = pop_c.plot(kind='line', figsize=(8, 6))\n",
    "\n",
    "ax.set_title ('Population total for Croatia (1995 - 2014)',fontsize=14)\n",
    "ax.set_ylabel(pop_cro['IndicatorName'].iloc[0],fontsize=12)\n",
    "ax.set_xlabel('Year',fontsize=12)\n",
    "ax.grid(True)\n",
    "\n",
    "# makes the x-axis have integer-only tick labels\n",
    "ax.xaxis.set_major_locator(MaxNLocator(integer=True))\n",
    "\n",
    "# plt.savefig(\"population_line.png\")"
   ]
  },
  {
   "cell_type": "markdown",
   "metadata": {},
   "source": [
    "### Plot GDP per Capita for Croatia (1995 - 2014)"
   ]
  },
  {
   "cell_type": "code",
   "execution_count": 30,
   "metadata": {
    "ExecuteTime": {
     "end_time": "2020-06-29T17:28:54.986216Z",
     "start_time": "2020-06-29T17:28:54.814217Z"
    }
   },
   "outputs": [
    {
     "data": {
      "image/png": "[encoded data removed]",
      "text/plain": [
       "<Figure size 576x432 with 1 Axes>"
      ]
     },
     "metadata": {
      "needs_background": "light"
     },
     "output_type": "display_data"
    }
   ],
   "source": [
    "# plt.figure() # create figure\n",
    "\n",
    "ax = gdp_c.plot(kind='line', figsize=(8, 6))\n",
    "\n",
    "ax.set_title ('GDP Per Capita Croatia (1995 - 2014)',fontsize=14)\n",
    "ax.set_ylabel(gdp_cro['IndicatorName'].iloc[0],fontsize=12)\n",
    "ax.set_xlabel('Year',fontsize=12)\n",
    "ax.grid(True)\n",
    "\n",
    "# makes the x-axis have integer-only tick labels\n",
    "ax.xaxis.set_major_locator(MaxNLocator(integer=True))\n",
    "\n",
    "# fig = plt.gcf()\n",
    "\n",
    "# plt.savefig(\"GDP_line.png\")"
   ]
  },
  {
   "cell_type": "markdown",
   "metadata": {},
   "source": [
    "### Plot \"Population, total\" and GDP per Capita for Croatia (1995 - 2014)"
   ]
  },
  {
   "cell_type": "markdown",
   "metadata": {},
   "source": [
    "**Let's put those two plots together:**"
   ]
  },
  {
   "cell_type": "code",
   "execution_count": 31,
   "metadata": {
    "ExecuteTime": {
     "end_time": "2020-06-29T17:28:55.192216Z",
     "start_time": "2020-06-29T17:28:54.988218Z"
    }
   },
   "outputs": [
    {
     "data": {
      "image/png": "[encoded data removed]",
      "text/plain": [
       "<Figure size 576x432 with 2 Axes>"
      ]
     },
     "metadata": {
      "needs_background": "light"
     },
     "output_type": "display_data"
    }
   ],
   "source": [
    "# plot with 2 y-axes\n",
    "fig = plt.figure(figsize=(8,6))\n",
    "ax = fig.add_subplot(111)\n",
    "ax.set_title ('Population, total & GDP Per Capita - Croatia (1995 - 2014)',  fontsize=13)\n",
    "\n",
    "y1_label = pop_cro['IndicatorName'].iloc[0]\n",
    "y2_label = gdp_cro['IndicatorName'].iloc[0]\n",
    "\n",
    "ax.plot('Year', 'Value','-b',data=pop_cro, label = y1_label)\n",
    "\n",
    "ax2 = ax.twinx()\n",
    "ax2.plot('Year', 'Value', '-r', data=gdp_cro, label=y2_label)\n",
    "fig.legend(loc=3, bbox_to_anchor=(0.92, 0.78), fontsize=12)\n",
    "\n",
    "ax.grid(True)\n",
    "ax.set_xlabel('Year', fontsize=12)\n",
    "\n",
    "# Make the y-axis label, ticks and tick labels match the line color.\n",
    "ax.set_ylabel(y1_label, color='b', fontsize=12)\n",
    "ax.tick_params('y', colors='b')\n",
    "ax2.set_ylabel(y2_label, color='r', fontsize=12)\n",
    "ax2.tick_params('y', colors='r')\n",
    "\n",
    "# makes the x-axis have integer-only tick labels\n",
    "ax.xaxis.set_major_locator(MaxNLocator(integer=True))\n",
    "\n",
    "plt.show()"
   ]
  },
  {
   "cell_type": "markdown",
   "metadata": {},
   "source": [
    "- The Yugoslav wars heavily impacted population of Croatia for almost a decade\n",
    "- The Great Recession had a smaller but still significant impact that lasted for many years\n"
   ]
  },
  {
   "cell_type": "markdown",
   "metadata": {},
   "source": [
    "Let's now check relationship between GDP and population decline."
   ]
  },
  {
   "cell_type": "markdown",
   "metadata": {},
   "source": [
    "### Plot and calculate correlation between GDP and total population (1995 - 2014)"
   ]
  },
  {
   "cell_type": "code",
   "execution_count": 32,
   "metadata": {
    "ExecuteTime": {
     "end_time": "2020-06-29T17:28:55.303255Z",
     "start_time": "2020-06-29T17:28:55.193219Z"
    },
    "scrolled": true
   },
   "outputs": [
    {
     "data": {
      "image/png": "[encoded data removed]",
      "text/plain": [
       "<Figure size 432x288 with 1 Axes>"
      ]
     },
     "metadata": {
      "needs_background": "light"
     },
     "output_type": "display_data"
    }
   ],
   "source": [
    "# scatter plot \n",
    "fig, axis = plt.subplots()\n",
    "\n",
    "# Grid lines, Xticks, Xlabel, Ylabel\n",
    "axis.yaxis.grid(True)\n",
    "axis.set_title('Population total vs. GDP \\(per capita\\)',fontsize=10)\n",
    "axis.set_xlabel(gdp_cro['IndicatorName'].iloc[0],fontsize=10)\n",
    "axis.set_ylabel(pop_cro['IndicatorName'].iloc[0],fontsize=10)\n",
    "axis.grid(True)\n",
    "\n",
    "X = gdp_cro['Value']\n",
    "Y = pop_cro['Value']\n",
    "\n",
    "axis.scatter(X, Y)\n",
    "plt.show()"
   ]
  },
  {
   "cell_type": "code",
   "execution_count": 33,
   "metadata": {
    "ExecuteTime": {
     "end_time": "2020-06-29T17:28:55.319215Z",
     "start_time": "2020-06-29T17:28:55.304253Z"
    }
   },
   "outputs": [
    {
     "data": {
      "text/html": [
       "<div>\n",
       "<style scoped>\n",
       "    .dataframe tbody tr th:only-of-type {\n",
       "        vertical-align: middle;\n",
       "    }\n",
       "\n",
       "    .dataframe tbody tr th {\n",
       "        vertical-align: top;\n",
       "    }\n",
       "\n",
       "    .dataframe thead th {\n",
       "        text-align: right;\n",
       "    }\n",
       "</style>\n",
       "<table border=\"1\" class=\"dataframe\">\n",
       "  <thead>\n",
       "    <tr style=\"text-align: right;\">\n",
       "      <th></th>\n",
       "      <th>population_total</th>\n",
       "      <th>gdp</th>\n",
       "    </tr>\n",
       "  </thead>\n",
       "  <tbody>\n",
       "    <tr>\n",
       "      <th>population_total</th>\n",
       "      <td>1.000000</td>\n",
       "      <td>-0.715415</td>\n",
       "    </tr>\n",
       "    <tr>\n",
       "      <th>gdp</th>\n",
       "      <td>-0.715415</td>\n",
       "      <td>1.000000</td>\n",
       "    </tr>\n",
       "  </tbody>\n",
       "</table>\n",
       "</div>"
      ],
      "text/plain": [
       "                  population_total       gdp\n",
       "population_total          1.000000 -0.715415\n",
       "gdp                      -0.715415  1.000000"
      ]
     },
     "execution_count": 33,
     "metadata": {},
     "output_type": "execute_result"
    }
   ],
   "source": [
    "# join 2 dataframes and calculate correlation\n",
    "pop_c.join(gdp_c).corr()"
   ]
  },
  {
   "cell_type": "markdown",
   "metadata": {},
   "source": [
    "There is a negative correlation mostly contributed by steady GDP grow before the Graet Recession in 2008. And during the years after the war, up to 2001, we see population decline. "
   ]
  },
  {
   "cell_type": "markdown",
   "metadata": {},
   "source": [
    "We can now check the period after 2008:"
   ]
  },
  {
   "cell_type": "markdown",
   "metadata": {},
   "source": [
    "### Calculate and plot correlation between GDP and total population (2008 - 2014)"
   ]
  },
  {
   "cell_type": "markdown",
   "metadata": {},
   "source": [
    "**total population: 2008 - 2014**"
   ]
  },
  {
   "cell_type": "code",
   "execution_count": 34,
   "metadata": {
    "ExecuteTime": {
     "end_time": "2020-06-29T17:28:55.335217Z",
     "start_time": "2020-06-29T17:28:55.320245Z"
    }
   },
   "outputs": [
    {
     "data": {
      "text/html": [
       "<div>\n",
       "<style scoped>\n",
       "    .dataframe tbody tr th:only-of-type {\n",
       "        vertical-align: middle;\n",
       "    }\n",
       "\n",
       "    .dataframe tbody tr th {\n",
       "        vertical-align: top;\n",
       "    }\n",
       "\n",
       "    .dataframe thead th {\n",
       "        text-align: right;\n",
       "    }\n",
       "</style>\n",
       "<table border=\"1\" class=\"dataframe\">\n",
       "  <thead>\n",
       "    <tr style=\"text-align: right;\">\n",
       "      <th></th>\n",
       "      <th>CountryName</th>\n",
       "      <th>CountryCode</th>\n",
       "      <th>IndicatorName</th>\n",
       "      <th>IndicatorCode</th>\n",
       "      <th>Year</th>\n",
       "      <th>Value</th>\n",
       "    </tr>\n",
       "  </thead>\n",
       "  <tbody>\n",
       "    <tr>\n",
       "      <th>4539589</th>\n",
       "      <td>Croatia</td>\n",
       "      <td>HRV</td>\n",
       "      <td>Population, total</td>\n",
       "      <td>SP.POP.TOTL</td>\n",
       "      <td>2008</td>\n",
       "      <td>4434508.0</td>\n",
       "    </tr>\n",
       "    <tr>\n",
       "      <th>4718999</th>\n",
       "      <td>Croatia</td>\n",
       "      <td>HRV</td>\n",
       "      <td>Population, total</td>\n",
       "      <td>SP.POP.TOTL</td>\n",
       "      <td>2009</td>\n",
       "      <td>4429078.0</td>\n",
       "    </tr>\n",
       "    <tr>\n",
       "      <th>4900647</th>\n",
       "      <td>Croatia</td>\n",
       "      <td>HRV</td>\n",
       "      <td>Population, total</td>\n",
       "      <td>SP.POP.TOTL</td>\n",
       "      <td>2010</td>\n",
       "      <td>4417781.0</td>\n",
       "    </tr>\n",
       "    <tr>\n",
       "      <th>5083730</th>\n",
       "      <td>Croatia</td>\n",
       "      <td>HRV</td>\n",
       "      <td>Population, total</td>\n",
       "      <td>SP.POP.TOTL</td>\n",
       "      <td>2011</td>\n",
       "      <td>4280622.0</td>\n",
       "    </tr>\n",
       "    <tr>\n",
       "      <th>5259633</th>\n",
       "      <td>Croatia</td>\n",
       "      <td>HRV</td>\n",
       "      <td>Population, total</td>\n",
       "      <td>SP.POP.TOTL</td>\n",
       "      <td>2012</td>\n",
       "      <td>4267558.0</td>\n",
       "    </tr>\n",
       "    <tr>\n",
       "      <th>5428960</th>\n",
       "      <td>Croatia</td>\n",
       "      <td>HRV</td>\n",
       "      <td>Population, total</td>\n",
       "      <td>SP.POP.TOTL</td>\n",
       "      <td>2013</td>\n",
       "      <td>4255689.0</td>\n",
       "    </tr>\n",
       "    <tr>\n",
       "      <th>5568743</th>\n",
       "      <td>Croatia</td>\n",
       "      <td>HRV</td>\n",
       "      <td>Population, total</td>\n",
       "      <td>SP.POP.TOTL</td>\n",
       "      <td>2014</td>\n",
       "      <td>4238389.0</td>\n",
       "    </tr>\n",
       "  </tbody>\n",
       "</table>\n",
       "</div>"
      ],
      "text/plain": [
       "        CountryName CountryCode      IndicatorName IndicatorCode  Year  \\\n",
       "4539589     Croatia         HRV  Population, total   SP.POP.TOTL  2008   \n",
       "4718999     Croatia         HRV  Population, total   SP.POP.TOTL  2009   \n",
       "4900647     Croatia         HRV  Population, total   SP.POP.TOTL  2010   \n",
       "5083730     Croatia         HRV  Population, total   SP.POP.TOTL  2011   \n",
       "5259633     Croatia         HRV  Population, total   SP.POP.TOTL  2012   \n",
       "5428960     Croatia         HRV  Population, total   SP.POP.TOTL  2013   \n",
       "5568743     Croatia         HRV  Population, total   SP.POP.TOTL  2014   \n",
       "\n",
       "             Value  \n",
       "4539589  4434508.0  \n",
       "4718999  4429078.0  \n",
       "4900647  4417781.0  \n",
       "5083730  4280622.0  \n",
       "5259633  4267558.0  \n",
       "5428960  4255689.0  \n",
       "5568743  4238389.0  "
      ]
     },
     "execution_count": 34,
     "metadata": {},
     "output_type": "execute_result"
    }
   ],
   "source": [
    "pop_cro2 = pop_cro[pop_cro['Year'] > 2007]\n",
    "pop_cro2"
   ]
  },
  {
   "cell_type": "code",
   "execution_count": 35,
   "metadata": {
    "ExecuteTime": {
     "end_time": "2020-06-29T17:28:55.351236Z",
     "start_time": "2020-06-29T17:28:55.336217Z"
    }
   },
   "outputs": [
    {
     "data": {
      "text/html": [
       "<div>\n",
       "<style scoped>\n",
       "    .dataframe tbody tr th:only-of-type {\n",
       "        vertical-align: middle;\n",
       "    }\n",
       "\n",
       "    .dataframe tbody tr th {\n",
       "        vertical-align: top;\n",
       "    }\n",
       "\n",
       "    .dataframe thead th {\n",
       "        text-align: right;\n",
       "    }\n",
       "</style>\n",
       "<table border=\"1\" class=\"dataframe\">\n",
       "  <thead>\n",
       "    <tr style=\"text-align: right;\">\n",
       "      <th></th>\n",
       "      <th>CountryName</th>\n",
       "      <th>CountryCode</th>\n",
       "      <th>IndicatorName</th>\n",
       "      <th>IndicatorCode</th>\n",
       "      <th>Year</th>\n",
       "      <th>Value</th>\n",
       "    </tr>\n",
       "  </thead>\n",
       "  <tbody>\n",
       "    <tr>\n",
       "      <th>4539170</th>\n",
       "      <td>Croatia</td>\n",
       "      <td>HRV</td>\n",
       "      <td>GDP per capita (constant 2005 US$)</td>\n",
       "      <td>NY.GDP.PCAP.KD</td>\n",
       "      <td>2008</td>\n",
       "      <td>11515.967206</td>\n",
       "    </tr>\n",
       "    <tr>\n",
       "      <th>4718592</th>\n",
       "      <td>Croatia</td>\n",
       "      <td>HRV</td>\n",
       "      <td>GDP per capita (constant 2005 US$)</td>\n",
       "      <td>NY.GDP.PCAP.KD</td>\n",
       "      <td>2009</td>\n",
       "      <td>10678.729148</td>\n",
       "    </tr>\n",
       "    <tr>\n",
       "      <th>4900218</th>\n",
       "      <td>Croatia</td>\n",
       "      <td>HRV</td>\n",
       "      <td>GDP per capita (constant 2005 US$)</td>\n",
       "      <td>NY.GDP.PCAP.KD</td>\n",
       "      <td>2010</td>\n",
       "      <td>10523.900014</td>\n",
       "    </tr>\n",
       "    <tr>\n",
       "      <th>5083357</th>\n",
       "      <td>Croatia</td>\n",
       "      <td>HRV</td>\n",
       "      <td>GDP per capita (constant 2005 US$)</td>\n",
       "      <td>NY.GDP.PCAP.KD</td>\n",
       "      <td>2011</td>\n",
       "      <td>10830.556888</td>\n",
       "    </tr>\n",
       "    <tr>\n",
       "      <th>5259268</th>\n",
       "      <td>Croatia</td>\n",
       "      <td>HRV</td>\n",
       "      <td>GDP per capita (constant 2005 US$)</td>\n",
       "      <td>NY.GDP.PCAP.KD</td>\n",
       "      <td>2012</td>\n",
       "      <td>10626.075772</td>\n",
       "    </tr>\n",
       "    <tr>\n",
       "      <th>5428671</th>\n",
       "      <td>Croatia</td>\n",
       "      <td>HRV</td>\n",
       "      <td>GDP per capita (constant 2005 US$)</td>\n",
       "      <td>NY.GDP.PCAP.KD</td>\n",
       "      <td>2013</td>\n",
       "      <td>10542.343243</td>\n",
       "    </tr>\n",
       "    <tr>\n",
       "      <th>5568516</th>\n",
       "      <td>Croatia</td>\n",
       "      <td>HRV</td>\n",
       "      <td>GDP per capita (constant 2005 US$)</td>\n",
       "      <td>NY.GDP.PCAP.KD</td>\n",
       "      <td>2014</td>\n",
       "      <td>10547.221025</td>\n",
       "    </tr>\n",
       "  </tbody>\n",
       "</table>\n",
       "</div>"
      ],
      "text/plain": [
       "        CountryName CountryCode                       IndicatorName  \\\n",
       "4539170     Croatia         HRV  GDP per capita (constant 2005 US$)   \n",
       "4718592     Croatia         HRV  GDP per capita (constant 2005 US$)   \n",
       "4900218     Croatia         HRV  GDP per capita (constant 2005 US$)   \n",
       "5083357     Croatia         HRV  GDP per capita (constant 2005 US$)   \n",
       "5259268     Croatia         HRV  GDP per capita (constant 2005 US$)   \n",
       "5428671     Croatia         HRV  GDP per capita (constant 2005 US$)   \n",
       "5568516     Croatia         HRV  GDP per capita (constant 2005 US$)   \n",
       "\n",
       "          IndicatorCode  Year         Value  \n",
       "4539170  NY.GDP.PCAP.KD  2008  11515.967206  \n",
       "4718592  NY.GDP.PCAP.KD  2009  10678.729148  \n",
       "4900218  NY.GDP.PCAP.KD  2010  10523.900014  \n",
       "5083357  NY.GDP.PCAP.KD  2011  10830.556888  \n",
       "5259268  NY.GDP.PCAP.KD  2012  10626.075772  \n",
       "5428671  NY.GDP.PCAP.KD  2013  10542.343243  \n",
       "5568516  NY.GDP.PCAP.KD  2014  10547.221025  "
      ]
     },
     "execution_count": 35,
     "metadata": {},
     "output_type": "execute_result"
    }
   ],
   "source": [
    "gdp_cro2 = gdp_cro[gdp_cro['Year'] > 2007]\n",
    "gdp_cro2"
   ]
  },
  {
   "cell_type": "markdown",
   "metadata": {},
   "source": [
    "**Transform both dataframes**"
   ]
  },
  {
   "cell_type": "code",
   "execution_count": 36,
   "metadata": {
    "ExecuteTime": {
     "end_time": "2020-06-29T17:28:55.367271Z",
     "start_time": "2020-06-29T17:28:55.352254Z"
    }
   },
   "outputs": [
    {
     "data": {
      "text/html": [
       "<div>\n",
       "<style scoped>\n",
       "    .dataframe tbody tr th:only-of-type {\n",
       "        vertical-align: middle;\n",
       "    }\n",
       "\n",
       "    .dataframe tbody tr th {\n",
       "        vertical-align: top;\n",
       "    }\n",
       "\n",
       "    .dataframe thead th {\n",
       "        text-align: right;\n",
       "    }\n",
       "</style>\n",
       "<table border=\"1\" class=\"dataframe\">\n",
       "  <thead>\n",
       "    <tr style=\"text-align: right;\">\n",
       "      <th></th>\n",
       "      <th>population_total</th>\n",
       "    </tr>\n",
       "    <tr>\n",
       "      <th>Year</th>\n",
       "      <th></th>\n",
       "    </tr>\n",
       "  </thead>\n",
       "  <tbody>\n",
       "    <tr>\n",
       "      <th>2008</th>\n",
       "      <td>4434508.0</td>\n",
       "    </tr>\n",
       "    <tr>\n",
       "      <th>2009</th>\n",
       "      <td>4429078.0</td>\n",
       "    </tr>\n",
       "  </tbody>\n",
       "</table>\n",
       "</div>"
      ],
      "text/plain": [
       "      population_total\n",
       "Year                  \n",
       "2008         4434508.0\n",
       "2009         4429078.0"
      ]
     },
     "execution_count": 36,
     "metadata": {},
     "output_type": "execute_result"
    }
   ],
   "source": [
    "# transform dataframe for population\n",
    "pop_c2 = pop_cro2.set_index(['Year']).drop(['IndicatorCode','IndicatorName','CountryCode','CountryName'],axis=1)\n",
    "# rename 'Value' column\n",
    "pop_c2.columns = ['population_total']\n",
    "pop_c2.head(2)"
   ]
  },
  {
   "cell_type": "code",
   "execution_count": 37,
   "metadata": {
    "ExecuteTime": {
     "end_time": "2020-06-29T17:28:55.383245Z",
     "start_time": "2020-06-29T17:28:55.368244Z"
    }
   },
   "outputs": [
    {
     "data": {
      "text/html": [
       "<div>\n",
       "<style scoped>\n",
       "    .dataframe tbody tr th:only-of-type {\n",
       "        vertical-align: middle;\n",
       "    }\n",
       "\n",
       "    .dataframe tbody tr th {\n",
       "        vertical-align: top;\n",
       "    }\n",
       "\n",
       "    .dataframe thead th {\n",
       "        text-align: right;\n",
       "    }\n",
       "</style>\n",
       "<table border=\"1\" class=\"dataframe\">\n",
       "  <thead>\n",
       "    <tr style=\"text-align: right;\">\n",
       "      <th></th>\n",
       "      <th>gdp</th>\n",
       "    </tr>\n",
       "    <tr>\n",
       "      <th>Year</th>\n",
       "      <th></th>\n",
       "    </tr>\n",
       "  </thead>\n",
       "  <tbody>\n",
       "    <tr>\n",
       "      <th>2008</th>\n",
       "      <td>11515.967206</td>\n",
       "    </tr>\n",
       "    <tr>\n",
       "      <th>2009</th>\n",
       "      <td>10678.729148</td>\n",
       "    </tr>\n",
       "  </tbody>\n",
       "</table>\n",
       "</div>"
      ],
      "text/plain": [
       "               gdp\n",
       "Year              \n",
       "2008  11515.967206\n",
       "2009  10678.729148"
      ]
     },
     "execution_count": 37,
     "metadata": {},
     "output_type": "execute_result"
    }
   ],
   "source": [
    "# transform dataframe for population\n",
    "gdp_c2 = gdp_cro2.set_index(['Year']).drop(['IndicatorCode','IndicatorName','CountryCode','CountryName'],axis=1)\n",
    "# rename 'Value' column\n",
    "gdp_c2.columns = ['gdp']\n",
    "gdp_c2.head(2)"
   ]
  },
  {
   "cell_type": "markdown",
   "metadata": {},
   "source": [
    "### Plot \"Population, total\" and GDP per Capita for Croatia (2008 - 2014)"
   ]
  },
  {
   "cell_type": "code",
   "execution_count": 38,
   "metadata": {
    "ExecuteTime": {
     "end_time": "2020-06-29T17:28:55.586535Z",
     "start_time": "2020-06-29T17:28:55.384254Z"
    }
   },
   "outputs": [
    {
     "data": {
      "image/png": "[encoded data removed]",
      "text/plain": [
       "<Figure size 576x432 with 2 Axes>"
      ]
     },
     "metadata": {
      "needs_background": "light"
     },
     "output_type": "display_data"
    }
   ],
   "source": [
    "# plot with 2 y-axes\n",
    "fig = plt.figure(figsize=(8,6))\n",
    "ax = fig.add_subplot(111)\n",
    "ax.set_title ('Population, total & GDP Per Capita - Croatia (2008 - 2014)',  fontsize=13)\n",
    "\n",
    "y1_label = pop_cro2['IndicatorName'].iloc[0]\n",
    "y2_label = gdp_cro2['IndicatorName'].iloc[0]\n",
    "\n",
    "ax.plot('Year', 'Value','-b',data=pop_cro2, label = y1_label)\n",
    "\n",
    "ax2 = ax.twinx()\n",
    "ax2.plot('Year', 'Value', '-r', data=gdp_cro2, label=y2_label)\n",
    "fig.legend(loc=3, bbox_to_anchor=(0.92, 0.78), fontsize=12)\n",
    "\n",
    "ax.grid(True)\n",
    "ax.set_xlabel('Year', fontsize=12)\n",
    "\n",
    "# Make the y-axis label, ticks and tick labels match the line color.\n",
    "ax.set_ylabel(y1_label, color='b', fontsize=12)\n",
    "ax.tick_params('y', colors='b')\n",
    "ax2.set_ylabel(y2_label, color='r', fontsize=12)\n",
    "ax2.tick_params('y', colors='r')\n",
    "\n",
    "# makes the x-axis have integer-only tick labels\n",
    "ax.xaxis.set_major_locator(MaxNLocator(integer=True))\n",
    "\n",
    "plt.show()"
   ]
  },
  {
   "cell_type": "markdown",
   "metadata": {},
   "source": [
    "#### Correlation (2008-2014)"
   ]
  },
  {
   "cell_type": "code",
   "execution_count": 39,
   "metadata": {
    "ExecuteTime": {
     "end_time": "2020-06-29T17:28:55.714277Z",
     "start_time": "2020-06-29T17:28:55.588256Z"
    },
    "scrolled": true
   },
   "outputs": [
    {
     "data": {
      "image/png": "[encoded data removed]",
      "text/plain": [
       "<Figure size 432x288 with 1 Axes>"
      ]
     },
     "metadata": {
      "needs_background": "light"
     },
     "output_type": "display_data"
    }
   ],
   "source": [
    "# scatter plot \n",
    "fig, axis = plt.subplots()\n",
    "\n",
    "# Grid lines, Xticks, Xlabel, Ylabel\n",
    "axis.yaxis.grid(True)\n",
    "axis.set_title('Population total vs. GDP \\(per capita\\)',fontsize=10)\n",
    "axis.set_xlabel(gdp_cro2['IndicatorName'].iloc[0],fontsize=10)\n",
    "axis.set_ylabel(pop_cro2['IndicatorName'].iloc[0],fontsize=10)\n",
    "\n",
    "X = gdp_cro2['Value']\n",
    "Y = pop_cro2['Value']\n",
    "\n",
    "axis.scatter(X, Y)\n",
    "plt.show()"
   ]
  },
  {
   "cell_type": "code",
   "execution_count": 40,
   "metadata": {
    "ExecuteTime": {
     "end_time": "2020-06-29T17:28:55.730252Z",
     "start_time": "2020-06-29T17:28:55.715217Z"
    }
   },
   "outputs": [
    {
     "data": {
      "text/html": [
       "<div>\n",
       "<style scoped>\n",
       "    .dataframe tbody tr th:only-of-type {\n",
       "        vertical-align: middle;\n",
       "    }\n",
       "\n",
       "    .dataframe tbody tr th {\n",
       "        vertical-align: top;\n",
       "    }\n",
       "\n",
       "    .dataframe thead th {\n",
       "        text-align: right;\n",
       "    }\n",
       "</style>\n",
       "<table border=\"1\" class=\"dataframe\">\n",
       "  <thead>\n",
       "    <tr style=\"text-align: right;\">\n",
       "      <th></th>\n",
       "      <th>population_total</th>\n",
       "      <th>gdp</th>\n",
       "    </tr>\n",
       "  </thead>\n",
       "  <tbody>\n",
       "    <tr>\n",
       "      <th>population_total</th>\n",
       "      <td>1.000000</td>\n",
       "      <td>0.476007</td>\n",
       "    </tr>\n",
       "    <tr>\n",
       "      <th>gdp</th>\n",
       "      <td>0.476007</td>\n",
       "      <td>1.000000</td>\n",
       "    </tr>\n",
       "  </tbody>\n",
       "</table>\n",
       "</div>"
      ],
      "text/plain": [
       "                  population_total       gdp\n",
       "population_total          1.000000  0.476007\n",
       "gdp                       0.476007  1.000000"
      ]
     },
     "execution_count": 40,
     "metadata": {},
     "output_type": "execute_result"
    }
   ],
   "source": [
    "# join 2 dataframes and calculate correlation\n",
    "pop_c2.join(gdp_c2).corr()"
   ]
  },
  {
   "cell_type": "markdown",
   "metadata": {},
   "source": [
    "In this period with only a few points, we can see a weak positive correlation."
   ]
  }
 ],
 "metadata": {
  "kernelspec": {
   "display_name": "Python 3",
   "language": "python",
   "name": "python3"
  },
  "language_info": {
   "codemirror_mode": {
    "name": "ipython",
    "version": 3
   },
   "file_extension": ".py",
   "mimetype": "text/x-python",
   "name": "python",
   "nbconvert_exporter": "python",
   "pygments_lexer": "ipython3",
   "version": "3.7.3"
  }
 },
 "nbformat": 4,
 "nbformat_minor": 2
}
